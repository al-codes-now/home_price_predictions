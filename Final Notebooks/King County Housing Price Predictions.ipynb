{
 "cells": [
  {
   "cell_type": "markdown",
   "metadata": {},
   "source": [
    "# <center>Modeling Process For King County Home Price Predictions</center>"
   ]
  },
  {
   "cell_type": "markdown",
   "metadata": {},
   "source": [
    "**Import Libraries**"
   ]
  },
  {
   "cell_type": "code",
   "execution_count": 199,
   "metadata": {},
   "outputs": [],
   "source": [
    "import matplotlib.pyplot as plt\n",
    "from scipy import stats\n",
    "import seaborn as sns\n",
    "import pandas as pd\n",
    "from sklearn.model_selection import train_test_split\n",
    "from sklearn.linear_model import LinearRegression\n",
    "from sklearn import metrics\n",
    "import numpy as np\n",
    "import warnings\n",
    "warnings.filterwarnings(\"ignore\")\n",
    "pd.set_option('display.max_columns', 300)\n",
    "from sklearn.preprocessing import StandardScaler\n",
    "from sklearn.feature_selection import SelectKBest, f_regression,mutual_info_regression\n",
    "from sklearn.feature_selection import RFECV\n",
    "from sklearn.preprocessing import PolynomialFeatures\n",
    "warnings.filterwarnings('ignore')"
   ]
  },
  {
   "cell_type": "code",
   "execution_count": 266,
   "metadata": {},
   "outputs": [],
   "source": [
    "df = pd.read_csv('kc_house_data_train.csv',index_col = 0)"
   ]
  },
  {
   "cell_type": "code",
   "execution_count": 267,
   "metadata": {},
   "outputs": [],
   "source": [
    "df.drop(columns=['date'],inplace = True)"
   ]
  },
  {
   "cell_type": "code",
   "execution_count": 268,
   "metadata": {},
   "outputs": [
    {
     "data": {
      "text/html": [
       "<div>\n",
       "<style scoped>\n",
       "    .dataframe tbody tr th:only-of-type {\n",
       "        vertical-align: middle;\n",
       "    }\n",
       "\n",
       "    .dataframe tbody tr th {\n",
       "        vertical-align: top;\n",
       "    }\n",
       "\n",
       "    .dataframe thead th {\n",
       "        text-align: right;\n",
       "    }\n",
       "</style>\n",
       "<table border=\"1\" class=\"dataframe\">\n",
       "  <thead>\n",
       "    <tr style=\"text-align: right;\">\n",
       "      <th></th>\n",
       "      <th>id</th>\n",
       "      <th>price</th>\n",
       "      <th>bedrooms</th>\n",
       "      <th>bathrooms</th>\n",
       "      <th>sqft_living</th>\n",
       "      <th>sqft_lot</th>\n",
       "      <th>floors</th>\n",
       "      <th>waterfront</th>\n",
       "      <th>view</th>\n",
       "      <th>condition</th>\n",
       "      <th>grade</th>\n",
       "      <th>sqft_above</th>\n",
       "      <th>sqft_basement</th>\n",
       "      <th>yr_built</th>\n",
       "      <th>yr_renovated</th>\n",
       "      <th>zipcode</th>\n",
       "      <th>lat</th>\n",
       "      <th>long</th>\n",
       "      <th>sqft_living15</th>\n",
       "      <th>sqft_lot15</th>\n",
       "    </tr>\n",
       "  </thead>\n",
       "  <tbody>\n",
       "    <tr>\n",
       "      <th>0</th>\n",
       "      <td>2591820310</td>\n",
       "      <td>365000.0</td>\n",
       "      <td>4</td>\n",
       "      <td>2.25</td>\n",
       "      <td>2070</td>\n",
       "      <td>8893</td>\n",
       "      <td>2.0</td>\n",
       "      <td>0</td>\n",
       "      <td>0</td>\n",
       "      <td>4</td>\n",
       "      <td>8</td>\n",
       "      <td>2070</td>\n",
       "      <td>0</td>\n",
       "      <td>1986</td>\n",
       "      <td>0</td>\n",
       "      <td>98058</td>\n",
       "      <td>47.4388</td>\n",
       "      <td>-122.162</td>\n",
       "      <td>2390</td>\n",
       "      <td>7700</td>\n",
       "    </tr>\n",
       "    <tr>\n",
       "      <th>1</th>\n",
       "      <td>7974200820</td>\n",
       "      <td>865000.0</td>\n",
       "      <td>5</td>\n",
       "      <td>3.00</td>\n",
       "      <td>2900</td>\n",
       "      <td>6730</td>\n",
       "      <td>1.0</td>\n",
       "      <td>0</td>\n",
       "      <td>0</td>\n",
       "      <td>5</td>\n",
       "      <td>8</td>\n",
       "      <td>1830</td>\n",
       "      <td>1070</td>\n",
       "      <td>1977</td>\n",
       "      <td>0</td>\n",
       "      <td>98115</td>\n",
       "      <td>47.6784</td>\n",
       "      <td>-122.285</td>\n",
       "      <td>2370</td>\n",
       "      <td>6283</td>\n",
       "    </tr>\n",
       "    <tr>\n",
       "      <th>2</th>\n",
       "      <td>7701450110</td>\n",
       "      <td>1038000.0</td>\n",
       "      <td>4</td>\n",
       "      <td>2.50</td>\n",
       "      <td>3770</td>\n",
       "      <td>10893</td>\n",
       "      <td>2.0</td>\n",
       "      <td>0</td>\n",
       "      <td>2</td>\n",
       "      <td>3</td>\n",
       "      <td>11</td>\n",
       "      <td>3770</td>\n",
       "      <td>0</td>\n",
       "      <td>1997</td>\n",
       "      <td>0</td>\n",
       "      <td>98006</td>\n",
       "      <td>47.5646</td>\n",
       "      <td>-122.129</td>\n",
       "      <td>3710</td>\n",
       "      <td>9685</td>\n",
       "    </tr>\n",
       "    <tr>\n",
       "      <th>3</th>\n",
       "      <td>9522300010</td>\n",
       "      <td>1490000.0</td>\n",
       "      <td>3</td>\n",
       "      <td>3.50</td>\n",
       "      <td>4560</td>\n",
       "      <td>14608</td>\n",
       "      <td>2.0</td>\n",
       "      <td>0</td>\n",
       "      <td>2</td>\n",
       "      <td>3</td>\n",
       "      <td>12</td>\n",
       "      <td>4560</td>\n",
       "      <td>0</td>\n",
       "      <td>1990</td>\n",
       "      <td>0</td>\n",
       "      <td>98034</td>\n",
       "      <td>47.6995</td>\n",
       "      <td>-122.228</td>\n",
       "      <td>4050</td>\n",
       "      <td>14226</td>\n",
       "    </tr>\n",
       "    <tr>\n",
       "      <th>4</th>\n",
       "      <td>9510861140</td>\n",
       "      <td>711000.0</td>\n",
       "      <td>3</td>\n",
       "      <td>2.50</td>\n",
       "      <td>2550</td>\n",
       "      <td>5376</td>\n",
       "      <td>2.0</td>\n",
       "      <td>0</td>\n",
       "      <td>0</td>\n",
       "      <td>3</td>\n",
       "      <td>9</td>\n",
       "      <td>2550</td>\n",
       "      <td>0</td>\n",
       "      <td>2004</td>\n",
       "      <td>0</td>\n",
       "      <td>98052</td>\n",
       "      <td>47.6647</td>\n",
       "      <td>-122.083</td>\n",
       "      <td>2250</td>\n",
       "      <td>4050</td>\n",
       "    </tr>\n",
       "  </tbody>\n",
       "</table>\n",
       "</div>"
      ],
      "text/plain": [
       "           id      price  bedrooms  bathrooms  sqft_living  sqft_lot  floors  \\\n",
       "0  2591820310   365000.0         4       2.25         2070      8893     2.0   \n",
       "1  7974200820   865000.0         5       3.00         2900      6730     1.0   \n",
       "2  7701450110  1038000.0         4       2.50         3770     10893     2.0   \n",
       "3  9522300010  1490000.0         3       3.50         4560     14608     2.0   \n",
       "4  9510861140   711000.0         3       2.50         2550      5376     2.0   \n",
       "\n",
       "   waterfront  view  condition  grade  sqft_above  sqft_basement  yr_built  \\\n",
       "0           0     0          4      8        2070              0      1986   \n",
       "1           0     0          5      8        1830           1070      1977   \n",
       "2           0     2          3     11        3770              0      1997   \n",
       "3           0     2          3     12        4560              0      1990   \n",
       "4           0     0          3      9        2550              0      2004   \n",
       "\n",
       "   yr_renovated  zipcode      lat     long  sqft_living15  sqft_lot15  \n",
       "0             0    98058  47.4388 -122.162           2390        7700  \n",
       "1             0    98115  47.6784 -122.285           2370        6283  \n",
       "2             0    98006  47.5646 -122.129           3710        9685  \n",
       "3             0    98034  47.6995 -122.228           4050       14226  \n",
       "4             0    98052  47.6647 -122.083           2250        4050  "
      ]
     },
     "execution_count": 268,
     "metadata": {},
     "output_type": "execute_result"
    }
   ],
   "source": [
    "df.head()"
   ]
  },
  {
   "cell_type": "markdown",
   "metadata": {},
   "source": [
    "# <center>Exploratory Data Analysis</center>"
   ]
  },
  {
   "cell_type": "markdown",
   "metadata": {},
   "source": [
    "First I'll look to see if there are any null values in my data set."
   ]
  },
  {
   "cell_type": "code",
   "execution_count": 269,
   "metadata": {},
   "outputs": [
    {
     "data": {
      "text/plain": [
       "id               0\n",
       "price            0\n",
       "bedrooms         0\n",
       "bathrooms        0\n",
       "sqft_living      0\n",
       "sqft_lot         0\n",
       "floors           0\n",
       "waterfront       0\n",
       "view             0\n",
       "condition        0\n",
       "grade            0\n",
       "sqft_above       0\n",
       "sqft_basement    0\n",
       "yr_built         0\n",
       "yr_renovated     0\n",
       "zipcode          0\n",
       "lat              0\n",
       "long             0\n",
       "sqft_living15    0\n",
       "sqft_lot15       0\n",
       "dtype: int64"
      ]
     },
     "execution_count": 269,
     "metadata": {},
     "output_type": "execute_result"
    }
   ],
   "source": [
    "df.isnull().sum()"
   ]
  },
  {
   "cell_type": "markdown",
   "metadata": {},
   "source": [
    "There are no null values in the data set, all of my data cleaning will come from finding extreme values and replacing them. While I was examining the data I noticed that our 'bedrooms' feature had some extreme values.\n",
    "\n",
    "**Bedrooms** "
   ]
  },
  {
   "cell_type": "code",
   "execution_count": 270,
   "metadata": {},
   "outputs": [
    {
     "data": {
      "text/plain": [
       "[<matplotlib.lines.Line2D at 0x7fb97581d340>]"
      ]
     },
     "execution_count": 270,
     "metadata": {},
     "output_type": "execute_result"
    },
    {
     "data": {
      "image/png": "[encoded data removed]",
      "text/plain": [
       "<Figure size 720x432 with 1 Axes>"
      ]
     },
     "metadata": {
      "needs_background": "light"
     },
     "output_type": "display_data"
    }
   ],
   "source": [
    "plt.subplots(figsize = (10,6))\n",
    "ax = sns.scatterplot(x=\"bedrooms\", y=\"price\", data=df, color = 'blue')\n",
    "\n",
    "ax.set(xlabel=\"bedrooms\", ylabel = \"Price\", title=\"Relationship Between Bedrooms and Price\")\n",
    "\n",
    "\n",
    "x=df[\"bedrooms\"]\n",
    "y=df[\"price\"]\n",
    "m, b = np.polyfit(x, y, 1)\n",
    "plt.plot(x, m*x + b, color = 'orange')"
   ]
  },
  {
   "cell_type": "code",
   "execution_count": 271,
   "metadata": {},
   "outputs": [
    {
     "data": {
      "text/plain": [
       "3     7864\n",
       "4     5488\n",
       "2     2204\n",
       "5     1283\n",
       "6      229\n",
       "1      160\n",
       "7       30\n",
       "0       12\n",
       "8       10\n",
       "9        5\n",
       "10       3\n",
       "11       1\n",
       "33       1\n",
       "Name: bedrooms, dtype: int64"
      ]
     },
     "execution_count": 271,
     "metadata": {},
     "output_type": "execute_result"
    }
   ],
   "source": [
    "df.bedrooms.value_counts()"
   ]
  },
  {
   "cell_type": "markdown",
   "metadata": {},
   "source": [
    "I decided to replace the values of 33 and 11 bedrooms. In the code book description it is stated that the 33 bedroom entry was a mistake. I replaced our 11 bedroom home with 4 bedrooms because I was able to google the homes ID and the information I found online stated the home had 4 bedrooms. \n",
    "\n",
    "Additionally, there were two homes that were valued over 1 million dollars that had 0 bedrooms. I decided to look up those homes as well and replace those values with the correct information. \n",
    "\n",
    "I replaced the other 0 values with 3 because that was the median bedroom value for homes in the same price range as those homes."
   ]
  },
  {
   "cell_type": "code",
   "execution_count": 272,
   "metadata": {},
   "outputs": [
    {
     "data": {
      "text/html": [
       "<div>\n",
       "<style scoped>\n",
       "    .dataframe tbody tr th:only-of-type {\n",
       "        vertical-align: middle;\n",
       "    }\n",
       "\n",
       "    .dataframe tbody tr th {\n",
       "        vertical-align: top;\n",
       "    }\n",
       "\n",
       "    .dataframe thead th {\n",
       "        text-align: right;\n",
       "    }\n",
       "</style>\n",
       "<table border=\"1\" class=\"dataframe\">\n",
       "  <thead>\n",
       "    <tr style=\"text-align: right;\">\n",
       "      <th></th>\n",
       "      <th>id</th>\n",
       "      <th>price</th>\n",
       "      <th>bedrooms</th>\n",
       "      <th>bathrooms</th>\n",
       "      <th>sqft_living</th>\n",
       "      <th>sqft_lot</th>\n",
       "      <th>floors</th>\n",
       "      <th>waterfront</th>\n",
       "      <th>view</th>\n",
       "      <th>condition</th>\n",
       "      <th>grade</th>\n",
       "      <th>sqft_above</th>\n",
       "      <th>sqft_basement</th>\n",
       "      <th>yr_built</th>\n",
       "      <th>yr_renovated</th>\n",
       "      <th>zipcode</th>\n",
       "      <th>lat</th>\n",
       "      <th>long</th>\n",
       "      <th>sqft_living15</th>\n",
       "      <th>sqft_lot15</th>\n",
       "    </tr>\n",
       "  </thead>\n",
       "  <tbody>\n",
       "    <tr>\n",
       "      <th>483</th>\n",
       "      <td>3374500520</td>\n",
       "      <td>355000.0</td>\n",
       "      <td>0</td>\n",
       "      <td>0.00</td>\n",
       "      <td>2460</td>\n",
       "      <td>8049</td>\n",
       "      <td>2.0</td>\n",
       "      <td>0</td>\n",
       "      <td>0</td>\n",
       "      <td>3</td>\n",
       "      <td>8</td>\n",
       "      <td>2460</td>\n",
       "      <td>0</td>\n",
       "      <td>1990</td>\n",
       "      <td>0</td>\n",
       "      <td>98031</td>\n",
       "      <td>47.4095</td>\n",
       "      <td>-122.168</td>\n",
       "      <td>2520</td>\n",
       "      <td>8050</td>\n",
       "    </tr>\n",
       "    <tr>\n",
       "      <th>1120</th>\n",
       "      <td>6306400140</td>\n",
       "      <td>1095000.0</td>\n",
       "      <td>0</td>\n",
       "      <td>0.00</td>\n",
       "      <td>3064</td>\n",
       "      <td>4764</td>\n",
       "      <td>3.5</td>\n",
       "      <td>0</td>\n",
       "      <td>2</td>\n",
       "      <td>3</td>\n",
       "      <td>7</td>\n",
       "      <td>3064</td>\n",
       "      <td>0</td>\n",
       "      <td>1990</td>\n",
       "      <td>0</td>\n",
       "      <td>98102</td>\n",
       "      <td>47.6362</td>\n",
       "      <td>-122.322</td>\n",
       "      <td>2360</td>\n",
       "      <td>4000</td>\n",
       "    </tr>\n",
       "    <tr>\n",
       "      <th>2430</th>\n",
       "      <td>1222029077</td>\n",
       "      <td>265000.0</td>\n",
       "      <td>0</td>\n",
       "      <td>0.75</td>\n",
       "      <td>384</td>\n",
       "      <td>213444</td>\n",
       "      <td>1.0</td>\n",
       "      <td>0</td>\n",
       "      <td>0</td>\n",
       "      <td>3</td>\n",
       "      <td>4</td>\n",
       "      <td>384</td>\n",
       "      <td>0</td>\n",
       "      <td>2003</td>\n",
       "      <td>0</td>\n",
       "      <td>98070</td>\n",
       "      <td>47.4177</td>\n",
       "      <td>-122.491</td>\n",
       "      <td>1920</td>\n",
       "      <td>224341</td>\n",
       "    </tr>\n",
       "    <tr>\n",
       "      <th>3032</th>\n",
       "      <td>7849202190</td>\n",
       "      <td>235000.0</td>\n",
       "      <td>0</td>\n",
       "      <td>0.00</td>\n",
       "      <td>1470</td>\n",
       "      <td>4800</td>\n",
       "      <td>2.0</td>\n",
       "      <td>0</td>\n",
       "      <td>0</td>\n",
       "      <td>3</td>\n",
       "      <td>7</td>\n",
       "      <td>1470</td>\n",
       "      <td>0</td>\n",
       "      <td>1996</td>\n",
       "      <td>0</td>\n",
       "      <td>98065</td>\n",
       "      <td>47.5265</td>\n",
       "      <td>-121.828</td>\n",
       "      <td>1060</td>\n",
       "      <td>7200</td>\n",
       "    </tr>\n",
       "    <tr>\n",
       "      <th>3609</th>\n",
       "      <td>2569500210</td>\n",
       "      <td>339950.0</td>\n",
       "      <td>0</td>\n",
       "      <td>2.50</td>\n",
       "      <td>2290</td>\n",
       "      <td>8319</td>\n",
       "      <td>2.0</td>\n",
       "      <td>0</td>\n",
       "      <td>0</td>\n",
       "      <td>3</td>\n",
       "      <td>8</td>\n",
       "      <td>2290</td>\n",
       "      <td>0</td>\n",
       "      <td>1985</td>\n",
       "      <td>0</td>\n",
       "      <td>98042</td>\n",
       "      <td>47.3473</td>\n",
       "      <td>-122.151</td>\n",
       "      <td>2500</td>\n",
       "      <td>8751</td>\n",
       "    </tr>\n",
       "    <tr>\n",
       "      <th>5424</th>\n",
       "      <td>3918400017</td>\n",
       "      <td>380000.0</td>\n",
       "      <td>0</td>\n",
       "      <td>0.00</td>\n",
       "      <td>1470</td>\n",
       "      <td>979</td>\n",
       "      <td>3.0</td>\n",
       "      <td>0</td>\n",
       "      <td>2</td>\n",
       "      <td>3</td>\n",
       "      <td>8</td>\n",
       "      <td>1470</td>\n",
       "      <td>0</td>\n",
       "      <td>2006</td>\n",
       "      <td>0</td>\n",
       "      <td>98133</td>\n",
       "      <td>47.7145</td>\n",
       "      <td>-122.356</td>\n",
       "      <td>1470</td>\n",
       "      <td>1399</td>\n",
       "    </tr>\n",
       "    <tr>\n",
       "      <th>6409</th>\n",
       "      <td>1453602309</td>\n",
       "      <td>288000.0</td>\n",
       "      <td>0</td>\n",
       "      <td>1.50</td>\n",
       "      <td>1430</td>\n",
       "      <td>1650</td>\n",
       "      <td>3.0</td>\n",
       "      <td>0</td>\n",
       "      <td>0</td>\n",
       "      <td>3</td>\n",
       "      <td>7</td>\n",
       "      <td>1430</td>\n",
       "      <td>0</td>\n",
       "      <td>1999</td>\n",
       "      <td>0</td>\n",
       "      <td>98125</td>\n",
       "      <td>47.7222</td>\n",
       "      <td>-122.290</td>\n",
       "      <td>1430</td>\n",
       "      <td>1650</td>\n",
       "    </tr>\n",
       "    <tr>\n",
       "      <th>9286</th>\n",
       "      <td>2954400190</td>\n",
       "      <td>1295650.0</td>\n",
       "      <td>0</td>\n",
       "      <td>0.00</td>\n",
       "      <td>4810</td>\n",
       "      <td>28008</td>\n",
       "      <td>2.0</td>\n",
       "      <td>0</td>\n",
       "      <td>0</td>\n",
       "      <td>3</td>\n",
       "      <td>12</td>\n",
       "      <td>4810</td>\n",
       "      <td>0</td>\n",
       "      <td>1990</td>\n",
       "      <td>0</td>\n",
       "      <td>98053</td>\n",
       "      <td>47.6642</td>\n",
       "      <td>-122.069</td>\n",
       "      <td>4740</td>\n",
       "      <td>35061</td>\n",
       "    </tr>\n",
       "    <tr>\n",
       "      <th>10067</th>\n",
       "      <td>3980300371</td>\n",
       "      <td>142000.0</td>\n",
       "      <td>0</td>\n",
       "      <td>0.00</td>\n",
       "      <td>290</td>\n",
       "      <td>20875</td>\n",
       "      <td>1.0</td>\n",
       "      <td>0</td>\n",
       "      <td>0</td>\n",
       "      <td>1</td>\n",
       "      <td>1</td>\n",
       "      <td>290</td>\n",
       "      <td>0</td>\n",
       "      <td>1963</td>\n",
       "      <td>0</td>\n",
       "      <td>98024</td>\n",
       "      <td>47.5308</td>\n",
       "      <td>-121.888</td>\n",
       "      <td>1620</td>\n",
       "      <td>22850</td>\n",
       "    </tr>\n",
       "    <tr>\n",
       "      <th>10074</th>\n",
       "      <td>2310060040</td>\n",
       "      <td>240000.0</td>\n",
       "      <td>0</td>\n",
       "      <td>2.50</td>\n",
       "      <td>1810</td>\n",
       "      <td>5669</td>\n",
       "      <td>2.0</td>\n",
       "      <td>0</td>\n",
       "      <td>0</td>\n",
       "      <td>3</td>\n",
       "      <td>7</td>\n",
       "      <td>1810</td>\n",
       "      <td>0</td>\n",
       "      <td>2003</td>\n",
       "      <td>0</td>\n",
       "      <td>98038</td>\n",
       "      <td>47.3493</td>\n",
       "      <td>-122.053</td>\n",
       "      <td>1810</td>\n",
       "      <td>5685</td>\n",
       "    </tr>\n",
       "    <tr>\n",
       "      <th>13989</th>\n",
       "      <td>6896300380</td>\n",
       "      <td>228000.0</td>\n",
       "      <td>0</td>\n",
       "      <td>1.00</td>\n",
       "      <td>390</td>\n",
       "      <td>5900</td>\n",
       "      <td>1.0</td>\n",
       "      <td>0</td>\n",
       "      <td>0</td>\n",
       "      <td>2</td>\n",
       "      <td>4</td>\n",
       "      <td>390</td>\n",
       "      <td>0</td>\n",
       "      <td>1953</td>\n",
       "      <td>0</td>\n",
       "      <td>98118</td>\n",
       "      <td>47.5260</td>\n",
       "      <td>-122.261</td>\n",
       "      <td>2170</td>\n",
       "      <td>6000</td>\n",
       "    </tr>\n",
       "    <tr>\n",
       "      <th>15733</th>\n",
       "      <td>7849202299</td>\n",
       "      <td>320000.0</td>\n",
       "      <td>0</td>\n",
       "      <td>2.50</td>\n",
       "      <td>1490</td>\n",
       "      <td>7111</td>\n",
       "      <td>2.0</td>\n",
       "      <td>0</td>\n",
       "      <td>0</td>\n",
       "      <td>3</td>\n",
       "      <td>7</td>\n",
       "      <td>1490</td>\n",
       "      <td>0</td>\n",
       "      <td>1999</td>\n",
       "      <td>0</td>\n",
       "      <td>98065</td>\n",
       "      <td>47.5261</td>\n",
       "      <td>-121.826</td>\n",
       "      <td>1500</td>\n",
       "      <td>4675</td>\n",
       "    </tr>\n",
       "  </tbody>\n",
       "</table>\n",
       "</div>"
      ],
      "text/plain": [
       "               id      price  bedrooms  bathrooms  sqft_living  sqft_lot  \\\n",
       "483    3374500520   355000.0         0       0.00         2460      8049   \n",
       "1120   6306400140  1095000.0         0       0.00         3064      4764   \n",
       "2430   1222029077   265000.0         0       0.75          384    213444   \n",
       "3032   7849202190   235000.0         0       0.00         1470      4800   \n",
       "3609   2569500210   339950.0         0       2.50         2290      8319   \n",
       "5424   3918400017   380000.0         0       0.00         1470       979   \n",
       "6409   1453602309   288000.0         0       1.50         1430      1650   \n",
       "9286   2954400190  1295650.0         0       0.00         4810     28008   \n",
       "10067  3980300371   142000.0         0       0.00          290     20875   \n",
       "10074  2310060040   240000.0         0       2.50         1810      5669   \n",
       "13989  6896300380   228000.0         0       1.00          390      5900   \n",
       "15733  7849202299   320000.0         0       2.50         1490      7111   \n",
       "\n",
       "       floors  waterfront  view  condition  grade  sqft_above  sqft_basement  \\\n",
       "483       2.0           0     0          3      8        2460              0   \n",
       "1120      3.5           0     2          3      7        3064              0   \n",
       "2430      1.0           0     0          3      4         384              0   \n",
       "3032      2.0           0     0          3      7        1470              0   \n",
       "3609      2.0           0     0          3      8        2290              0   \n",
       "5424      3.0           0     2          3      8        1470              0   \n",
       "6409      3.0           0     0          3      7        1430              0   \n",
       "9286      2.0           0     0          3     12        4810              0   \n",
       "10067     1.0           0     0          1      1         290              0   \n",
       "10074     2.0           0     0          3      7        1810              0   \n",
       "13989     1.0           0     0          2      4         390              0   \n",
       "15733     2.0           0     0          3      7        1490              0   \n",
       "\n",
       "       yr_built  yr_renovated  zipcode      lat     long  sqft_living15  \\\n",
       "483        1990             0    98031  47.4095 -122.168           2520   \n",
       "1120       1990             0    98102  47.6362 -122.322           2360   \n",
       "2430       2003             0    98070  47.4177 -122.491           1920   \n",
       "3032       1996             0    98065  47.5265 -121.828           1060   \n",
       "3609       1985             0    98042  47.3473 -122.151           2500   \n",
       "5424       2006             0    98133  47.7145 -122.356           1470   \n",
       "6409       1999             0    98125  47.7222 -122.290           1430   \n",
       "9286       1990             0    98053  47.6642 -122.069           4740   \n",
       "10067      1963             0    98024  47.5308 -121.888           1620   \n",
       "10074      2003             0    98038  47.3493 -122.053           1810   \n",
       "13989      1953             0    98118  47.5260 -122.261           2170   \n",
       "15733      1999             0    98065  47.5261 -121.826           1500   \n",
       "\n",
       "       sqft_lot15  \n",
       "483          8050  \n",
       "1120         4000  \n",
       "2430       224341  \n",
       "3032         7200  \n",
       "3609         8751  \n",
       "5424         1399  \n",
       "6409         1650  \n",
       "9286        35061  \n",
       "10067       22850  \n",
       "10074        5685  \n",
       "13989        6000  \n",
       "15733        4675  "
      ]
     },
     "execution_count": 272,
     "metadata": {},
     "output_type": "execute_result"
    }
   ],
   "source": [
    "df[df['bedrooms']==0]"
   ]
  },
  {
   "cell_type": "code",
   "execution_count": 273,
   "metadata": {},
   "outputs": [
    {
     "data": {
      "text/plain": [
       "3.0"
      ]
     },
     "execution_count": 273,
     "metadata": {},
     "output_type": "execute_result"
    }
   ],
   "source": [
    "df[df['price']<=279295]['bedrooms'].median()"
   ]
  },
  {
   "cell_type": "code",
   "execution_count": 274,
   "metadata": {},
   "outputs": [],
   "source": [
    "df['bedrooms'].replace(to_replace=[11,33],value=[4,3],inplace=True)\n",
    "\n",
    "df['bedrooms'].replace(to_replace=[0],value=[3],inplace=True)\n",
    "\n",
    "df['bedrooms'] = np.where(df['id'] == 6306400140, 5, df['bedrooms'])\n",
    "\n",
    "df['bedrooms'] = np.where(df['id'] == 2954400190, 4, df['bedrooms'])"
   ]
  },
  {
   "cell_type": "markdown",
   "metadata": {},
   "source": [
    "**Bathrooms**\n",
    "\n",
    "I noticed something similar when examining our bathrooms feature. There were a few homes that had 0 bathrooms listed. I followed a similar process as to the one I explained for my bedrooms variable."
   ]
  },
  {
   "cell_type": "code",
   "execution_count": 275,
   "metadata": {},
   "outputs": [
    {
     "data": {
      "text/plain": [
       "[<matplotlib.lines.Line2D at 0x7fb975cdd880>]"
      ]
     },
     "execution_count": 275,
     "metadata": {},
     "output_type": "execute_result"
    },
    {
     "data": {
      "image/png": "[encoded data removed]",
      "text/plain": [
       "<Figure size 720x432 with 1 Axes>"
      ]
     },
     "metadata": {
      "needs_background": "light"
     },
     "output_type": "display_data"
    }
   ],
   "source": [
    "plt.subplots(figsize = (10,6))\n",
    "ax = sns.scatterplot(x=\"bathrooms\", y=\"price\", data=df, color = 'blue')\n",
    "\n",
    "ax.set(xlabel=\"bathrooms\", ylabel = \"Price\", title=\"Relationship Between Bathrooms and Price\")\n",
    "\n",
    "\n",
    "x=df[\"bathrooms\"]\n",
    "y=df[\"price\"]\n",
    "m, b = np.polyfit(x, y, 1)\n",
    "plt.plot(x, m*x + b, color = 'orange')"
   ]
  },
  {
   "cell_type": "code",
   "execution_count": 276,
   "metadata": {},
   "outputs": [
    {
     "data": {
      "text/plain": [
       "367500.0"
      ]
     },
     "execution_count": 276,
     "metadata": {},
     "output_type": "execute_result"
    }
   ],
   "source": [
    "df[df['bathrooms']==0]['price'].median()"
   ]
  },
  {
   "cell_type": "code",
   "execution_count": 277,
   "metadata": {},
   "outputs": [
    {
     "data": {
      "text/plain": [
       "1.5"
      ]
     },
     "execution_count": 277,
     "metadata": {},
     "output_type": "execute_result"
    }
   ],
   "source": [
    "df[df['price']<=278500]['bathrooms'].median()"
   ]
  },
  {
   "cell_type": "code",
   "execution_count": 278,
   "metadata": {},
   "outputs": [],
   "source": [
    "df['bathrooms'] = np.where(df['id'] == 6306400140, 4.5, df['bathrooms'])\n",
    "\n",
    "df['bathrooms'] = np.where(df['id'] == 2954400190, 4.5, df['bathrooms'])\n",
    "\n",
    "df['bathrooms'].replace(to_replace=[0],value=[1.5],inplace=True)"
   ]
  },
  {
   "cell_type": "markdown",
   "metadata": {},
   "source": [
    "# <center>Feature Engineering</center>"
   ]
  },
  {
   "cell_type": "markdown",
   "metadata": {},
   "source": [
    "In order to maximize the information given to us in this dataset I chose engineer a selection of features to help us better understand their role in determining the price of a home. Below are descriptions of my thought process as to why I made the changes that I did to these variables. \n",
    "\n",
    "**Years Old**: Here I am just calculating how old the home is in years\n"
   ]
  },
  {
   "cell_type": "code",
   "execution_count": 279,
   "metadata": {},
   "outputs": [],
   "source": [
    "df['years_old'] = 2020- df['yr_built']"
   ]
  },
  {
   "cell_type": "code",
   "execution_count": 280,
   "metadata": {},
   "outputs": [
    {
     "data": {
      "text/plain": [
       "6      453\n",
       "16     360\n",
       "15     344\n",
       "14     343\n",
       "17     337\n",
       "      ... \n",
       "87      27\n",
       "119     25\n",
       "118     22\n",
       "86      19\n",
       "85      18\n",
       "Name: years_old, Length: 116, dtype: int64"
      ]
     },
     "execution_count": 280,
     "metadata": {},
     "output_type": "execute_result"
    }
   ],
   "source": [
    "df.years_old.value_counts()"
   ]
  },
  {
   "cell_type": "markdown",
   "metadata": {},
   "source": [
    "**New Home:** This is a dummy variable for whether the home is new or not. If the home is new it gets a value of one. If the home is not new it gets a value of zero. "
   ]
  },
  {
   "cell_type": "code",
   "execution_count": 281,
   "metadata": {},
   "outputs": [],
   "source": [
    "df['new_home'] = np.where(df['yr_built']>=2013, 1, 0)"
   ]
  },
  {
   "cell_type": "code",
   "execution_count": 282,
   "metadata": {},
   "outputs": [
    {
     "name": "stderr",
     "output_type": "stream",
     "text": [
      "No handles with labels found to put in legend.\n"
     ]
    },
    {
     "data": {
      "text/plain": [
       "<matplotlib.legend.Legend at 0x7fb975cdd250>"
      ]
     },
     "execution_count": 282,
     "metadata": {},
     "output_type": "execute_result"
    },
    {
     "data": {
      "image/png": "[encoded data removed]",
      "text/plain": [
       "<Figure size 864x504 with 1 Axes>"
      ]
     },
     "metadata": {
      "needs_background": "light"
     },
     "output_type": "display_data"
    }
   ],
   "source": [
    "median_old = df[df['new_home']==0]['price'].median()\n",
    "median_new = df[df['new_home']==1]['price'].median()\n",
    "\n",
    "y = [median_old,median_new]\n",
    "x=['Old Home','New Home']\n",
    "\n",
    "plt.figure(figsize = (12, 7))\n",
    "ax = sns.barplot(x=x, y=y, data=df,palette=\"Blues_d\")\n",
    "\n",
    "plt.title(\"Old Home vs. New Home Median Price\", fontsize = 20)\n",
    "plt.xlabel(\"Type of home\", fontsize = 16)\n",
    "plt.ylabel(\"Median Home Price\", fontsize = 16)\n",
    "plt.xticks(fontsize = 12)\n",
    "plt.yticks(fontsize = 12)\n",
    "plt.legend(fontsize = 12)"
   ]
  },
  {
   "cell_type": "markdown",
   "metadata": {},
   "source": [
    "**Renovated Home:** Here I am generating a variable to determine if the home is renovated or not. If the home is renovated it gets a value of one, if not it gets a value of zero. "
   ]
  },
  {
   "cell_type": "code",
   "execution_count": 283,
   "metadata": {},
   "outputs": [],
   "source": [
    "df['renovated_home'] = np.where(df['yr_renovated']>0, 1, 0)"
   ]
  },
  {
   "cell_type": "code",
   "execution_count": 375,
   "metadata": {},
   "outputs": [
    {
     "data": {
      "text/plain": [
       "0    16564\n",
       "1      726\n",
       "Name: renovated_home, dtype: int64"
      ]
     },
     "execution_count": 375,
     "metadata": {},
     "output_type": "execute_result"
    }
   ],
   "source": [
    "df['renovated_home'].value_counts()"
   ]
  },
  {
   "cell_type": "code",
   "execution_count": 374,
   "metadata": {},
   "outputs": [
    {
     "name": "stderr",
     "output_type": "stream",
     "text": [
      "No handles with labels found to put in legend.\n"
     ]
    },
    {
     "data": {
      "text/plain": [
       "<matplotlib.legend.Legend at 0x7fb975814400>"
      ]
     },
     "execution_count": 374,
     "metadata": {},
     "output_type": "execute_result"
    },
    {
     "data": {
      "image/png": "[encoded data removed]",
      "text/plain": [
       "<Figure size 864x504 with 1 Axes>"
      ]
     },
     "metadata": {
      "needs_background": "light"
     },
     "output_type": "display_data"
    }
   ],
   "source": [
    "median_notrenovated = df[df['renovated_home']==0]['price'].median()\n",
    "median_renovated = df[df['renovated_home']==1]['price'].median()\n",
    "\n",
    "y = [median_notrenovated,median_renovated]\n",
    "x=['Not Renovated','Renovated']\n",
    "\n",
    "plt.figure(figsize = (12, 7))\n",
    "ax = sns.barplot(x=x, y=y, data=df,palette=\"Blues_d\")\n",
    "\n",
    "plt.title(\"Not Renovated Home vs. Renovated Home Median Price\", fontsize = 20)\n",
    "plt.xlabel(\"Type of home\", fontsize = 16)\n",
    "plt.ylabel(\"Median Home Price\", fontsize = 16)\n",
    "plt.xticks(fontsize = 12)\n",
    "plt.yticks(fontsize = 12)\n",
    "plt.legend(fontsize = 12)"
   ]
  },
  {
   "cell_type": "markdown",
   "metadata": {},
   "source": [
    "**Calculating Distance between homes and Popular Areas in Seattle**\n",
    "\n",
    "Here I wanted to see if the distance between the home and popular areas had an impact on price. This function calculates the distance in miles using longitude and latitude. "
   ]
  },
  {
   "cell_type": "code",
   "execution_count": 284,
   "metadata": {},
   "outputs": [],
   "source": [
    "def haversine(lat1, lon1, lat2, lon2):\n",
    "    MILES = 3959\n",
    "    lat1, lon1, lat2, lon2 = map(np.deg2rad, [lat1, lon1, lat2, lon2])\n",
    "    dlat = lat2 - lat1 \n",
    "    dlon = lon2 - lon1 \n",
    "    a = np.sin(dlat/2)**2 + np.cos(lat1) * np.cos(lat2) * np.sin(dlon/2)**2\n",
    "    c = 2 * np.arcsin(np.sqrt(a)) \n",
    "    total_miles = MILES * c\n",
    "    return total_miles"
   ]
  },
  {
   "cell_type": "code",
   "execution_count": 285,
   "metadata": {},
   "outputs": [],
   "source": [
    "df['dist_Ballard'] = haversine(47.677,-122.385, df['lat'].values, df['long'].values)"
   ]
  },
  {
   "cell_type": "code",
   "execution_count": 286,
   "metadata": {},
   "outputs": [],
   "source": [
    "df['dist_Belltown'] = haversine(47.61322,-122.3465, df['lat'].values, df['long'].values)"
   ]
  },
  {
   "cell_type": "code",
   "execution_count": 287,
   "metadata": {},
   "outputs": [],
   "source": [
    "df['dist_CapitolHill'] = haversine(47.622942,-122.316456, df['lat'].values, df['long'].values)"
   ]
  },
  {
   "cell_type": "code",
   "execution_count": 288,
   "metadata": {},
   "outputs": [],
   "source": [
    "df['dist_ChinaTown'] = haversine(47.591830966,-122.31916539, df['lat'].values, df['long'].values)"
   ]
  },
  {
   "cell_type": "code",
   "execution_count": 289,
   "metadata": {},
   "outputs": [],
   "source": [
    "df['dist_PioneerSqaure'] = haversine(47.6016399,-122.3333457, df['lat'].values, df['long'].values)"
   ]
  },
  {
   "cell_type": "code",
   "execution_count": 290,
   "metadata": {},
   "outputs": [],
   "source": [
    "df['dist_seattle'] = haversine(47.6062,-122.3321, df['lat'].values, df['long'].values)"
   ]
  },
  {
   "cell_type": "code",
   "execution_count": 291,
   "metadata": {},
   "outputs": [
    {
     "data": {
      "text/html": [
       "<div>\n",
       "<style scoped>\n",
       "    .dataframe tbody tr th:only-of-type {\n",
       "        vertical-align: middle;\n",
       "    }\n",
       "\n",
       "    .dataframe tbody tr th {\n",
       "        vertical-align: top;\n",
       "    }\n",
       "\n",
       "    .dataframe thead th {\n",
       "        text-align: right;\n",
       "    }\n",
       "</style>\n",
       "<table border=\"1\" class=\"dataframe\">\n",
       "  <thead>\n",
       "    <tr style=\"text-align: right;\">\n",
       "      <th></th>\n",
       "      <th>id</th>\n",
       "      <th>price</th>\n",
       "      <th>bedrooms</th>\n",
       "      <th>bathrooms</th>\n",
       "      <th>sqft_living</th>\n",
       "      <th>sqft_lot</th>\n",
       "      <th>floors</th>\n",
       "      <th>waterfront</th>\n",
       "      <th>view</th>\n",
       "      <th>condition</th>\n",
       "      <th>grade</th>\n",
       "      <th>sqft_above</th>\n",
       "      <th>sqft_basement</th>\n",
       "      <th>yr_built</th>\n",
       "      <th>yr_renovated</th>\n",
       "      <th>zipcode</th>\n",
       "      <th>lat</th>\n",
       "      <th>long</th>\n",
       "      <th>sqft_living15</th>\n",
       "      <th>sqft_lot15</th>\n",
       "      <th>years_old</th>\n",
       "      <th>new_home</th>\n",
       "      <th>renovated_home</th>\n",
       "      <th>dist_Ballard</th>\n",
       "      <th>dist_Belltown</th>\n",
       "      <th>dist_CapitolHill</th>\n",
       "      <th>dist_ChinaTown</th>\n",
       "      <th>dist_PioneerSqaure</th>\n",
       "      <th>dist_seattle</th>\n",
       "    </tr>\n",
       "  </thead>\n",
       "  <tbody>\n",
       "    <tr>\n",
       "      <th>0</th>\n",
       "      <td>2591820310</td>\n",
       "      <td>365000.0</td>\n",
       "      <td>4</td>\n",
       "      <td>2.25</td>\n",
       "      <td>2070</td>\n",
       "      <td>8893</td>\n",
       "      <td>2.0</td>\n",
       "      <td>0</td>\n",
       "      <td>0</td>\n",
       "      <td>4</td>\n",
       "      <td>8</td>\n",
       "      <td>2070</td>\n",
       "      <td>0</td>\n",
       "      <td>1986</td>\n",
       "      <td>0</td>\n",
       "      <td>98058</td>\n",
       "      <td>47.4388</td>\n",
       "      <td>-122.162</td>\n",
       "      <td>2390</td>\n",
       "      <td>7700</td>\n",
       "      <td>34</td>\n",
       "      <td>0</td>\n",
       "      <td>0</td>\n",
       "      <td>19.468658</td>\n",
       "      <td>14.810694</td>\n",
       "      <td>14.622612</td>\n",
       "      <td>12.868844</td>\n",
       "      <td>13.803394</td>\n",
       "      <td>14.028259</td>\n",
       "    </tr>\n",
       "    <tr>\n",
       "      <th>1</th>\n",
       "      <td>7974200820</td>\n",
       "      <td>865000.0</td>\n",
       "      <td>5</td>\n",
       "      <td>3.00</td>\n",
       "      <td>2900</td>\n",
       "      <td>6730</td>\n",
       "      <td>1.0</td>\n",
       "      <td>0</td>\n",
       "      <td>0</td>\n",
       "      <td>5</td>\n",
       "      <td>8</td>\n",
       "      <td>1830</td>\n",
       "      <td>1070</td>\n",
       "      <td>1977</td>\n",
       "      <td>0</td>\n",
       "      <td>98115</td>\n",
       "      <td>47.6784</td>\n",
       "      <td>-122.285</td>\n",
       "      <td>2370</td>\n",
       "      <td>6283</td>\n",
       "      <td>43</td>\n",
       "      <td>0</td>\n",
       "      <td>0</td>\n",
       "      <td>4.653348</td>\n",
       "      <td>5.336708</td>\n",
       "      <td>4.102220</td>\n",
       "      <td>6.189626</td>\n",
       "      <td>5.761770</td>\n",
       "      <td>5.449467</td>\n",
       "    </tr>\n",
       "    <tr>\n",
       "      <th>2</th>\n",
       "      <td>7701450110</td>\n",
       "      <td>1038000.0</td>\n",
       "      <td>4</td>\n",
       "      <td>2.50</td>\n",
       "      <td>3770</td>\n",
       "      <td>10893</td>\n",
       "      <td>2.0</td>\n",
       "      <td>0</td>\n",
       "      <td>2</td>\n",
       "      <td>3</td>\n",
       "      <td>11</td>\n",
       "      <td>3770</td>\n",
       "      <td>0</td>\n",
       "      <td>1997</td>\n",
       "      <td>0</td>\n",
       "      <td>98006</td>\n",
       "      <td>47.5646</td>\n",
       "      <td>-122.129</td>\n",
       "      <td>3710</td>\n",
       "      <td>9685</td>\n",
       "      <td>23</td>\n",
       "      <td>0</td>\n",
       "      <td>0</td>\n",
       "      <td>14.229431</td>\n",
       "      <td>10.678290</td>\n",
       "      <td>9.620471</td>\n",
       "      <td>9.061505</td>\n",
       "      <td>9.861970</td>\n",
       "      <td>9.892434</td>\n",
       "    </tr>\n",
       "    <tr>\n",
       "      <th>3</th>\n",
       "      <td>9522300010</td>\n",
       "      <td>1490000.0</td>\n",
       "      <td>3</td>\n",
       "      <td>3.50</td>\n",
       "      <td>4560</td>\n",
       "      <td>14608</td>\n",
       "      <td>2.0</td>\n",
       "      <td>0</td>\n",
       "      <td>2</td>\n",
       "      <td>3</td>\n",
       "      <td>12</td>\n",
       "      <td>4560</td>\n",
       "      <td>0</td>\n",
       "      <td>1990</td>\n",
       "      <td>0</td>\n",
       "      <td>98034</td>\n",
       "      <td>47.6995</td>\n",
       "      <td>-122.228</td>\n",
       "      <td>4050</td>\n",
       "      <td>14226</td>\n",
       "      <td>30</td>\n",
       "      <td>0</td>\n",
       "      <td>0</td>\n",
       "      <td>7.466358</td>\n",
       "      <td>8.121615</td>\n",
       "      <td>6.702984</td>\n",
       "      <td>8.565022</td>\n",
       "      <td>8.352749</td>\n",
       "      <td>8.064683</td>\n",
       "    </tr>\n",
       "    <tr>\n",
       "      <th>4</th>\n",
       "      <td>9510861140</td>\n",
       "      <td>711000.0</td>\n",
       "      <td>3</td>\n",
       "      <td>2.50</td>\n",
       "      <td>2550</td>\n",
       "      <td>5376</td>\n",
       "      <td>2.0</td>\n",
       "      <td>0</td>\n",
       "      <td>0</td>\n",
       "      <td>3</td>\n",
       "      <td>9</td>\n",
       "      <td>2550</td>\n",
       "      <td>0</td>\n",
       "      <td>2004</td>\n",
       "      <td>0</td>\n",
       "      <td>98052</td>\n",
       "      <td>47.6647</td>\n",
       "      <td>-122.083</td>\n",
       "      <td>2250</td>\n",
       "      <td>4050</td>\n",
       "      <td>16</td>\n",
       "      <td>0</td>\n",
       "      <td>0</td>\n",
       "      <td>14.077589</td>\n",
       "      <td>12.773310</td>\n",
       "      <td>11.244713</td>\n",
       "      <td>12.095439</td>\n",
       "      <td>12.444624</td>\n",
       "      <td>12.282565</td>\n",
       "    </tr>\n",
       "  </tbody>\n",
       "</table>\n",
       "</div>"
      ],
      "text/plain": [
       "           id      price  bedrooms  bathrooms  sqft_living  sqft_lot  floors  \\\n",
       "0  2591820310   365000.0         4       2.25         2070      8893     2.0   \n",
       "1  7974200820   865000.0         5       3.00         2900      6730     1.0   \n",
       "2  7701450110  1038000.0         4       2.50         3770     10893     2.0   \n",
       "3  9522300010  1490000.0         3       3.50         4560     14608     2.0   \n",
       "4  9510861140   711000.0         3       2.50         2550      5376     2.0   \n",
       "\n",
       "   waterfront  view  condition  grade  sqft_above  sqft_basement  yr_built  \\\n",
       "0           0     0          4      8        2070              0      1986   \n",
       "1           0     0          5      8        1830           1070      1977   \n",
       "2           0     2          3     11        3770              0      1997   \n",
       "3           0     2          3     12        4560              0      1990   \n",
       "4           0     0          3      9        2550              0      2004   \n",
       "\n",
       "   yr_renovated  zipcode      lat     long  sqft_living15  sqft_lot15  \\\n",
       "0             0    98058  47.4388 -122.162           2390        7700   \n",
       "1             0    98115  47.6784 -122.285           2370        6283   \n",
       "2             0    98006  47.5646 -122.129           3710        9685   \n",
       "3             0    98034  47.6995 -122.228           4050       14226   \n",
       "4             0    98052  47.6647 -122.083           2250        4050   \n",
       "\n",
       "   years_old  new_home  renovated_home  dist_Ballard  dist_Belltown  \\\n",
       "0         34         0               0     19.468658      14.810694   \n",
       "1         43         0               0      4.653348       5.336708   \n",
       "2         23         0               0     14.229431      10.678290   \n",
       "3         30         0               0      7.466358       8.121615   \n",
       "4         16         0               0     14.077589      12.773310   \n",
       "\n",
       "   dist_CapitolHill  dist_ChinaTown  dist_PioneerSqaure  dist_seattle  \n",
       "0         14.622612       12.868844           13.803394     14.028259  \n",
       "1          4.102220        6.189626            5.761770      5.449467  \n",
       "2          9.620471        9.061505            9.861970      9.892434  \n",
       "3          6.702984        8.565022            8.352749      8.064683  \n",
       "4         11.244713       12.095439           12.444624     12.282565  "
      ]
     },
     "execution_count": 291,
     "metadata": {},
     "output_type": "execute_result"
    }
   ],
   "source": [
    "df.head()"
   ]
  },
  {
   "cell_type": "markdown",
   "metadata": {},
   "source": [
    "**Cities:**\n",
    "\n",
    "I wanted to create dummy variables that accounted for the city in which the home was located. I figured there were more cities that would be more or less expensive vs. others and that could potentiall give us more accurate results. "
   ]
  },
  {
   "cell_type": "code",
   "execution_count": 292,
   "metadata": {},
   "outputs": [],
   "source": [
    "unique_arr = df[\"zipcode\"].unique()"
   ]
  },
  {
   "cell_type": "code",
   "execution_count": 293,
   "metadata": {},
   "outputs": [],
   "source": [
    "zipcodes = list(unique_arr)"
   ]
  },
  {
   "cell_type": "code",
   "execution_count": 294,
   "metadata": {},
   "outputs": [],
   "source": [
    "def get_cities(zipcodes):\n",
    "    from uszipcode import SearchEngine, SimpleZipcode, Zipcode\n",
    "    search = SearchEngine()\n",
    "    cities = []\n",
    "    \n",
    "    for zc in zipcodes:\n",
    "        zipcode = search.by_zipcode(zc)\n",
    "        city = zipcode.major_city\n",
    "        cities.append(city)\n",
    "    return cities"
   ]
  },
  {
   "cell_type": "code",
   "execution_count": 295,
   "metadata": {},
   "outputs": [
    {
     "data": {
      "text/plain": [
       "['Renton',\n",
       " 'Seattle',\n",
       " 'Bellevue',\n",
       " 'Kirkland',\n",
       " 'Redmond',\n",
       " 'Kent',\n",
       " 'Bellevue',\n",
       " 'Seattle',\n",
       " 'Issaquah',\n",
       " 'Seattle',\n",
       " 'Seattle',\n",
       " 'Seattle',\n",
       " 'Renton',\n",
       " 'Seattle',\n",
       " 'Carnation',\n",
       " 'Renton',\n",
       " 'Bellevue',\n",
       " 'Redmond',\n",
       " 'Woodinville',\n",
       " 'Seattle',\n",
       " 'Auburn',\n",
       " 'Sammamish',\n",
       " 'Seattle',\n",
       " 'North Bend',\n",
       " 'Seattle',\n",
       " 'Enumclaw',\n",
       " 'Seattle',\n",
       " 'Bellevue',\n",
       " 'Auburn',\n",
       " 'Mercer Island',\n",
       " 'Issaquah',\n",
       " 'Kent',\n",
       " 'Auburn',\n",
       " 'Snoqualmie',\n",
       " 'Renton',\n",
       " 'Seattle',\n",
       " 'Seattle',\n",
       " 'Seattle',\n",
       " 'Black Diamond',\n",
       " 'Sammamish',\n",
       " 'Seattle',\n",
       " 'Kent',\n",
       " 'Seattle',\n",
       " 'Federal Way',\n",
       " 'Kenmore',\n",
       " 'Seattle',\n",
       " 'Maple Valley',\n",
       " 'Seattle',\n",
       " 'Seattle',\n",
       " 'Seattle',\n",
       " 'Seattle',\n",
       " 'Bellevue',\n",
       " 'Woodinville',\n",
       " 'Seattle',\n",
       " 'Bothell',\n",
       " 'Seattle',\n",
       " 'Seattle',\n",
       " 'Seattle',\n",
       " 'Kirkland',\n",
       " 'Federal Way',\n",
       " 'Seattle',\n",
       " 'Seattle',\n",
       " 'Duvall',\n",
       " 'Seattle',\n",
       " 'Kent',\n",
       " 'Seattle',\n",
       " 'Seattle',\n",
       " 'Vashon',\n",
       " 'Fall City',\n",
       " 'Medina']"
      ]
     },
     "execution_count": 295,
     "metadata": {},
     "output_type": "execute_result"
    }
   ],
   "source": [
    "get_cities(zipcodes)"
   ]
  },
  {
   "cell_type": "code",
   "execution_count": 296,
   "metadata": {},
   "outputs": [],
   "source": [
    "conditions = [\n",
    "   df['zipcode'].values == 98058,\n",
    " df['zipcode'].values == 98115,\n",
    " df['zipcode'].values ==98006,\n",
    " df['zipcode'].values ==98034,\n",
    " df['zipcode'].values ==98052,\n",
    " df['zipcode'].values ==98031,\n",
    " df['zipcode'].values ==98007,\n",
    " df['zipcode'].values ==98199,\n",
    " df['zipcode'].values ==98027,\n",
    " df['zipcode'].values ==98119,\n",
    " df['zipcode'].values ==98122,\n",
    " df['zipcode'].values ==98155,\n",
    " df['zipcode'].values ==98055,\n",
    " df['zipcode'].values ==98118,\n",
    " df['zipcode'].values ==98014,\n",
    " df['zipcode'].values ==98059,\n",
    " df['zipcode'].values ==98004,\n",
    "df['zipcode'].values == 98053,\n",
    "df['zipcode'].values == 98072,\n",
    "df['zipcode'].values == 98133,\n",
    "df['zipcode'].values == 98092,\n",
    "df['zipcode'].values == 98074,\n",
    "df['zipcode'].values == 98125,\n",
    "df['zipcode'].values == 98045,\n",
    "df['zipcode'].values == 98106,\n",
    "df['zipcode'].values == 98022,\n",
    "df['zipcode'].values == 98177,\n",
    "df['zipcode'].values == 98008,\n",
    "df['zipcode'].values == 98002,\n",
    "df['zipcode'].values == 98040,\n",
    "df['zipcode'].values == 98029,\n",
    "df['zipcode'].values == 98042,\n",
    " df['zipcode'].values ==98001,\n",
    "df['zipcode'].values == 98065,\n",
    "df['zipcode'].values == 98056,\n",
    " df['zipcode'].values ==98144,\n",
    "df['zipcode'].values == 98188,\n",
    "df['zipcode'].values == 98109,\n",
    " df['zipcode'].values ==98010,\n",
    " df['zipcode'].values ==98075,\n",
    " df['zipcode'].values ==98198,\n",
    "df['zipcode'].values == 98030,\n",
    "df['zipcode'].values == 98105,\n",
    "df['zipcode'].values == 98023,\n",
    "df['zipcode'].values == 98028,\n",
    " df['zipcode'].values ==98112,\n",
    "df['zipcode'].values == 98038,\n",
    "df['zipcode'].values == 98116,\n",
    "df['zipcode'].values == 98103,\n",
    "df['zipcode'].values == 98178,\n",
    "df['zipcode'].values == 98168,\n",
    "df['zipcode'].values == 98005,\n",
    "df['zipcode'].values == 98077,\n",
    "df['zipcode'].values == 98146,\n",
    "df['zipcode'].values == 98011,\n",
    " df['zipcode'].values ==98126,\n",
    "df['zipcode'].values == 98108,\n",
    "df['zipcode'].values == 98136,\n",
    "df['zipcode'].values == 98033,\n",
    "df['zipcode'].values == 98003,\n",
    "df['zipcode'].values == 98117,\n",
    " df['zipcode'].values ==98107,\n",
    "df['zipcode'].values == 98019,\n",
    "df['zipcode'].values == 98102,\n",
    "df['zipcode'].values == 98032,\n",
    "df['zipcode'].values == 98148,\n",
    "df['zipcode'].values == 98166,\n",
    " df['zipcode'].values ==98070,\n",
    "df['zipcode'].values == 98024,\n",
    " df['zipcode'].values ==98039\n",
    "]\n",
    "\n",
    "choices = [\n",
    " 'Renton',\n",
    " 'Seattle',\n",
    " 'Bellevue',\n",
    " 'Kirkland',\n",
    " 'Redmond',\n",
    " 'Kent',\n",
    " 'Bellevue',\n",
    " 'Seattle',\n",
    " 'Issaquah',\n",
    " 'Seattle',\n",
    " 'Seattle',\n",
    " 'Seattle',\n",
    " 'Renton',\n",
    " 'Seattle',\n",
    " 'Carnation',\n",
    " 'Renton',\n",
    " 'Bellevue',\n",
    " 'Redmond',\n",
    " 'Woodinville',\n",
    " 'Seattle',\n",
    " 'Auburn',\n",
    " 'Sammamish',\n",
    " 'Seattle',\n",
    " 'North Bend',\n",
    " 'Seattle',\n",
    " 'Enumclaw',\n",
    " 'Seattle',\n",
    " 'Bellevue',\n",
    " 'Auburn',\n",
    " 'Mercer Island',\n",
    " 'Issaquah',\n",
    " 'Kent',\n",
    " 'Auburn',\n",
    " 'Snoqualmie',\n",
    " 'Renton',\n",
    " 'Seattle',\n",
    " 'Seattle',\n",
    " 'Seattle',\n",
    " 'Black Diamond',\n",
    " 'Sammamish',\n",
    " 'Seattle',\n",
    " 'Kent',\n",
    " 'Seattle',\n",
    " 'Federal Way',\n",
    " 'Kenmore',\n",
    " 'Seattle',\n",
    " 'Maple Valley',\n",
    " 'Seattle',\n",
    " 'Seattle',\n",
    " 'Seattle',\n",
    " 'Seattle',\n",
    " 'Bellevue',\n",
    " 'Woodinville',\n",
    " 'Seattle',\n",
    " 'Bothell',\n",
    " 'Seattle',\n",
    " 'Seattle',\n",
    " 'Seattle',\n",
    " 'Kirkland',\n",
    " 'Federal Way',\n",
    " 'Seattle',\n",
    " 'Seattle',\n",
    " 'Duvall',\n",
    " 'Seattle',\n",
    " 'Kent',\n",
    " 'Seattle',\n",
    " 'Seattle',\n",
    " 'Vashon',\n",
    " 'Fall City',\n",
    " 'Medina'\n",
    "]\n",
    "\n",
    "\n",
    "df['cities'] = np.select(conditions, choices, default='NA')"
   ]
  },
  {
   "cell_type": "code",
   "execution_count": 297,
   "metadata": {},
   "outputs": [
    {
     "data": {
      "text/plain": [
       "Seattle          7176\n",
       "Renton           1304\n",
       "Bellevue         1110\n",
       "Kent              942\n",
       "Redmond           798\n",
       "Kirkland          790\n",
       "Auburn            727\n",
       "Sammamish         644\n",
       "Federal Way       634\n",
       "Issaquah          582\n",
       "Maple Valley      455\n",
       "Woodinville       377\n",
       "Snoqualmie        249\n",
       "Mercer Island     229\n",
       "Kenmore           219\n",
       "Enumclaw          189\n",
       "North Bend        176\n",
       "Bothell           163\n",
       "Duvall            145\n",
       "Carnation         101\n",
       "Vashon             99\n",
       "Black Diamond      74\n",
       "Fall City          65\n",
       "Medina             42\n",
       "Name: cities, dtype: int64"
      ]
     },
     "execution_count": 297,
     "metadata": {},
     "output_type": "execute_result"
    }
   ],
   "source": [
    "df['cities'].value_counts()"
   ]
  },
  {
   "cell_type": "code",
   "execution_count": 298,
   "metadata": {},
   "outputs": [],
   "source": [
    "cities = pd.get_dummies(df['cities'])\n",
    "df = pd.concat([df,cities],axis=1)"
   ]
  },
  {
   "cell_type": "code",
   "execution_count": 299,
   "metadata": {},
   "outputs": [],
   "source": [
    "df.rename(columns={'Federal Way':'Federal_Way','Maple Valley':'Maple_Valley','Mercer Island':'Mercer_Island','North Bend':'North_Bend','Black Diamond':'Black_Diamond','Fall City':'Fall_City'},inplace=True)"
   ]
  },
  {
   "cell_type": "code",
   "execution_count": 300,
   "metadata": {},
   "outputs": [
    {
     "name": "stderr",
     "output_type": "stream",
     "text": [
      "No handles with labels found to put in legend.\n"
     ]
    },
    {
     "data": {
      "text/plain": [
       "<matplotlib.legend.Legend at 0x7fb97376c220>"
      ]
     },
     "execution_count": 300,
     "metadata": {},
     "output_type": "execute_result"
    },
    {
     "data": {
      "image/png": "[encoded data removed]",
      "text/plain": [
       "<Figure size 864x504 with 1 Axes>"
      ]
     },
     "metadata": {
      "needs_background": "light"
     },
     "output_type": "display_data"
    }
   ],
   "source": [
    "renton = df[df['cities'] == 'Renton']['price'].median()\n",
    "medina = df[df['cities'] == 'Kent']['price'].median()\n",
    "seattle = df[df['cities'] == 'Seattle']['price'].median()\n",
    "bellevue = df[df['cities'] == 'Bellevue']['price'].median()\n",
    "maplevalley = df[df['cities'] == 'Maple Valley']['price'].median()\n",
    "\n",
    "med_prce = [renton, medina,seattle,bellevue,maplevalley]\n",
    "ctys = ['Renton','Medina','Seattle','Bellevue','Maple Valley']\n",
    "\n",
    "plt.figure(figsize = (12, 7))\n",
    "ax = sns.barplot(x=ctys, y=med_prce, data=df,palette=\"Blues_d\")\n",
    "\n",
    "plt.title(\"Median Home Price per City\", fontsize = 20)\n",
    "plt.xlabel(\"Cities\", fontsize = 16)\n",
    "plt.ylabel(\"Median Home Price\", fontsize = 16)\n",
    "plt.xticks(fontsize = 12)\n",
    "plt.yticks(fontsize = 12)\n",
    "plt.legend(fontsize = 12)"
   ]
  },
  {
   "cell_type": "markdown",
   "metadata": {},
   "source": [
    "**Polynomial Features**\n",
    "\n",
    "I wanted to create polynomial features to account for any relationships among the features that could better improve the model. "
   ]
  },
  {
   "cell_type": "code",
   "execution_count": 303,
   "metadata": {},
   "outputs": [
    {
     "data": {
      "text/plain": [
       "Index(['id', 'price', 'bedrooms', 'bathrooms', 'sqft_living', 'sqft_lot',\n",
       "       'floors', 'waterfront', 'view', 'condition', 'grade', 'sqft_above',\n",
       "       'sqft_basement', 'yr_built', 'yr_renovated', 'zipcode', 'lat', 'long',\n",
       "       'sqft_living15', 'sqft_lot15', 'years_old', 'new_home',\n",
       "       'renovated_home', 'dist_Ballard', 'dist_Belltown', 'dist_CapitolHill',\n",
       "       'dist_ChinaTown', 'dist_PioneerSqaure', 'dist_seattle', 'cities',\n",
       "       'Auburn', 'Bellevue', 'Black_Diamond', 'Bothell', 'Carnation', 'Duvall',\n",
       "       'Enumclaw', 'Fall_City', 'Federal_Way', 'Issaquah', 'Kenmore', 'Kent',\n",
       "       'Kirkland', 'Maple_Valley', 'Medina', 'Mercer_Island', 'North_Bend',\n",
       "       'Redmond', 'Renton', 'Sammamish', 'Seattle', 'Snoqualmie', 'Vashon',\n",
       "       'Woodinville'],\n",
       "      dtype='object')"
      ]
     },
     "execution_count": 303,
     "metadata": {},
     "output_type": "execute_result"
    }
   ],
   "source": [
    "df.columns"
   ]
  },
  {
   "cell_type": "code",
   "execution_count": 324,
   "metadata": {},
   "outputs": [],
   "source": [
    "features = [ 'bedrooms', 'bathrooms', 'sqft_living', 'sqft_lot',\n",
    "       'floors', 'waterfront', 'view', 'condition', 'grade', 'sqft_above',\n",
    "       'sqft_basement', 'yr_built', 'yr_renovated', 'zipcode', 'lat', 'long',\n",
    "       'sqft_living15', 'sqft_lot15', 'years_old', 'new_home',\n",
    "       'renovated_home',\n",
    "            ]\n",
    "\n",
    "df_features = df[features]"
   ]
  },
  {
   "cell_type": "code",
   "execution_count": 325,
   "metadata": {},
   "outputs": [],
   "source": [
    "poly = PolynomialFeatures(degree=2, include_bias=False)\n",
    "\n",
    "poly_data = poly.fit_transform(df_features)\n",
    "\n",
    "poly_columns = poly.get_feature_names(df_features.columns)\n",
    "\n",
    "df_poly = pd.DataFrame(poly_data, columns=poly_columns)"
   ]
  },
  {
   "cell_type": "code",
   "execution_count": 326,
   "metadata": {},
   "outputs": [],
   "source": [
    "price = df['price']\n",
    "df_poly = pd.concat([df_poly,price],axis=1)"
   ]
  },
  {
   "cell_type": "code",
   "execution_count": 327,
   "metadata": {},
   "outputs": [],
   "source": [
    "target = df['price']"
   ]
  },
  {
   "cell_type": "markdown",
   "metadata": {},
   "source": [
    "# <center>Statistical Tests</center>"
   ]
  },
  {
   "cell_type": "markdown",
   "metadata": {},
   "source": [
    "**ANOVA:** I chose to run an ANOVA test on my cities feature to see if there was a statisically significant price difference in homes from city to city"
   ]
  },
  {
   "cell_type": "code",
   "execution_count": 125,
   "metadata": {},
   "outputs": [
    {
     "name": "stdout",
     "output_type": "stream",
     "text": [
      "                sum_sq       df           F  PR(>F)\n",
      "cities    5.919338e+14     23.0  244.479634     0.0\n",
      "Residual  1.817583e+15  17266.0         NaN     NaN\n"
     ]
    }
   ],
   "source": [
    "import statsmodels.api as sm\n",
    "from statsmodels.formula.api import ols\n",
    "\n",
    "formula = 'price~cities'\n",
    "lm = ols(formula, data=df).fit()\n",
    "table = sm.stats.anova_lm(lm, typ=2)\n",
    "print(table)"
   ]
  },
  {
   "cell_type": "markdown",
   "metadata": {},
   "source": [
    "The results here indicate that there is a difference in home prices from city to city, because of this we can rejected the null hypothesis that there is no difference in home prices from city to city."
   ]
  },
  {
   "cell_type": "markdown",
   "metadata": {},
   "source": [
    "**Two Sample T Test:** After engineering my renovated_home feature I wanted to test whether there was a statisically significant difference between renovated home prices and non-renovated home prices. "
   ]
  },
  {
   "cell_type": "code",
   "execution_count": 128,
   "metadata": {},
   "outputs": [
    {
     "name": "stdout",
     "output_type": "stream",
     "text": [
      "Renovated vs Not Renovated T-test P Value:  6.478917377975333e-20\n"
     ]
    }
   ],
   "source": [
    "renovated = df[df['renovated_home']==1]['price']\n",
    "not_renovated = df[df['renovated_home']==0]['price']\n",
    "p_val= stats.ttest_ind(renovated, not_renovated, equal_var=False)[1]\n",
    "\n",
    "alpha = .05\n",
    "\n",
    "print(\"Renovated vs Not Renovated T-test P Value: \", p_val)"
   ]
  },
  {
   "cell_type": "markdown",
   "metadata": {},
   "source": [
    "These results indicated that there is a a statically signicant difference in renovated home prices vs. not renovated home prices. We can rejected the null hypothesis that there is no difference in home prices of these two groups."
   ]
  },
  {
   "cell_type": "markdown",
   "metadata": {},
   "source": [
    "**Two Sample T Test:** After engineering my new_home feature I wanted to test whether there was a statisically significant difference between new homes prices and not new homes prices."
   ]
  },
  {
   "cell_type": "code",
   "execution_count": 372,
   "metadata": {},
   "outputs": [
    {
     "name": "stdout",
     "output_type": "stream",
     "text": [
      "New Home vs Not a New Home T-test P Value:  6.940441256090536e-23\n"
     ]
    }
   ],
   "source": [
    "new_home = df[df['new_home']==1]['price']\n",
    "not_new_home = df[df['new_home']==0]['price']\n",
    "p_val= stats.ttest_ind(waterfront, not_waterfront, equal_var=False)[1]\n",
    "\n",
    "alpha = .05\n",
    "\n",
    "print(\"New Home vs Not a New Home T-test P Value: \", p_val)"
   ]
  },
  {
   "cell_type": "markdown",
   "metadata": {},
   "source": [
    "These results indicated that there is a a statically signicant difference in new home prices vs. not new home prices. We can rejected the null hypothesis that there is no difference in the home prices of these two groups."
   ]
  },
  {
   "cell_type": "markdown",
   "metadata": {},
   "source": [
    "**ANOVA:** Lastly, I wanted to see where the condition of the home had a statistically significant impact on the price of the home."
   ]
  },
  {
   "cell_type": "code",
   "execution_count": 303,
   "metadata": {},
   "outputs": [
    {
     "name": "stdout",
     "output_type": "stream",
     "text": [
      "                 sum_sq       df          F    PR(>F)\n",
      "condition  3.139905e+12      1.0  22.557844  0.000002\n",
      "Residual   2.406377e+15  17288.0        NaN       NaN\n"
     ]
    }
   ],
   "source": [
    "formula = 'price~condition'\n",
    "lm = ols(formula, data=df).fit()\n",
    "table = sm.stats.anova_lm(lm, typ=2)\n",
    "print(table)"
   ]
  },
  {
   "cell_type": "markdown",
   "metadata": {},
   "source": [
    "The results do indicate the the condition of the home has a statistically significant impact on the price of the home. We can reject the null hypothesis that the condition of the home has no impact on the price of the home. "
   ]
  },
  {
   "cell_type": "markdown",
   "metadata": {},
   "source": [
    "# <center>Feature Selection</center>"
   ]
  },
  {
   "cell_type": "markdown",
   "metadata": {},
   "source": [
    "**Baseline Model**\n",
    "\n",
    "I wanted to look at a quick summary of my baseline model before started the feature selection process in order to get an idea of how my features are impacting price. "
   ]
  },
  {
   "cell_type": "code",
   "execution_count": 310,
   "metadata": {},
   "outputs": [
    {
     "data": {
      "text/html": [
       "<table class=\"simpletable\">\n",
       "<caption>OLS Regression Results</caption>\n",
       "<tr>\n",
       "  <th>Dep. Variable:</th>          <td>price</td>      <th>  R-squared:         </th>  <td>   0.783</td>  \n",
       "</tr>\n",
       "<tr>\n",
       "  <th>Model:</th>                   <td>OLS</td>       <th>  Adj. R-squared:    </th>  <td>   0.782</td>  \n",
       "</tr>\n",
       "<tr>\n",
       "  <th>Method:</th>             <td>Least Squares</td>  <th>  F-statistic:       </th>  <td>   1515.</td>  \n",
       "</tr>\n",
       "<tr>\n",
       "  <th>Date:</th>             <td>Mon, 07 Dec 2020</td> <th>  Prob (F-statistic):</th>   <td>  0.00</td>   \n",
       "</tr>\n",
       "<tr>\n",
       "  <th>Time:</th>                 <td>06:12:13</td>     <th>  Log-Likelihood:    </th> <td>-2.3317e+05</td>\n",
       "</tr>\n",
       "<tr>\n",
       "  <th>No. Observations:</th>      <td> 17290</td>      <th>  AIC:               </th>  <td>4.664e+05</td> \n",
       "</tr>\n",
       "<tr>\n",
       "  <th>Df Residuals:</th>          <td> 17248</td>      <th>  BIC:               </th>  <td>4.668e+05</td> \n",
       "</tr>\n",
       "<tr>\n",
       "  <th>Df Model:</th>              <td>    41</td>      <th>                     </th>      <td> </td>     \n",
       "</tr>\n",
       "<tr>\n",
       "  <th>Covariance Type:</th>      <td>nonrobust</td>    <th>                     </th>      <td> </td>     \n",
       "</tr>\n",
       "</table>\n",
       "<table class=\"simpletable\">\n",
       "<tr>\n",
       "           <td></td>             <th>coef</th>     <th>std err</th>      <th>t</th>      <th>P>|t|</th>  <th>[0.025</th>    <th>0.975]</th>  \n",
       "</tr>\n",
       "<tr>\n",
       "  <th>Intercept</th>          <td> 1.494e+06</td> <td> 1.43e+05</td> <td>   10.449</td> <td> 0.000</td> <td> 1.21e+06</td> <td> 1.77e+06</td>\n",
       "</tr>\n",
       "<tr>\n",
       "  <th>bedrooms</th>           <td>-3.494e+04</td> <td> 1915.726</td> <td>  -18.241</td> <td> 0.000</td> <td>-3.87e+04</td> <td>-3.12e+04</td>\n",
       "</tr>\n",
       "<tr>\n",
       "  <th>bathrooms</th>          <td> 2.479e+04</td> <td> 3177.647</td> <td>    7.802</td> <td> 0.000</td> <td> 1.86e+04</td> <td>  3.1e+04</td>\n",
       "</tr>\n",
       "<tr>\n",
       "  <th>sqft_living</th>        <td>  122.9010</td> <td>    2.089</td> <td>   58.833</td> <td> 0.000</td> <td>  118.806</td> <td>  126.996</td>\n",
       "</tr>\n",
       "<tr>\n",
       "  <th>sqft_lot</th>           <td>    0.1790</td> <td>    0.034</td> <td>    5.210</td> <td> 0.000</td> <td>    0.112</td> <td>    0.246</td>\n",
       "</tr>\n",
       "<tr>\n",
       "  <th>floors</th>             <td>-4.503e+04</td> <td> 3738.840</td> <td>  -12.044</td> <td> 0.000</td> <td>-5.24e+04</td> <td>-3.77e+04</td>\n",
       "</tr>\n",
       "<tr>\n",
       "  <th>waterfront</th>         <td>  6.49e+05</td> <td> 1.66e+04</td> <td>   39.116</td> <td> 0.000</td> <td> 6.16e+05</td> <td> 6.82e+05</td>\n",
       "</tr>\n",
       "<tr>\n",
       "  <th>view</th>               <td> 5.307e+04</td> <td> 2051.424</td> <td>   25.871</td> <td> 0.000</td> <td> 4.91e+04</td> <td> 5.71e+04</td>\n",
       "</tr>\n",
       "<tr>\n",
       "  <th>condition</th>          <td> 2.583e+04</td> <td> 2298.749</td> <td>   11.237</td> <td> 0.000</td> <td> 2.13e+04</td> <td> 3.03e+04</td>\n",
       "</tr>\n",
       "<tr>\n",
       "  <th>grade</th>              <td> 6.012e+04</td> <td> 2108.612</td> <td>   28.510</td> <td> 0.000</td> <td>  5.6e+04</td> <td> 6.42e+04</td>\n",
       "</tr>\n",
       "<tr>\n",
       "  <th>sqft_above</th>         <td>  104.1893</td> <td>    2.180</td> <td>   47.791</td> <td> 0.000</td> <td>   99.916</td> <td>  108.463</td>\n",
       "</tr>\n",
       "<tr>\n",
       "  <th>sqft_basement</th>      <td>   18.7116</td> <td>    2.610</td> <td>    7.169</td> <td> 0.000</td> <td>   13.596</td> <td>   23.828</td>\n",
       "</tr>\n",
       "<tr>\n",
       "  <th>yr_built</th>           <td> -835.8390</td> <td>   77.216</td> <td>  -10.825</td> <td> 0.000</td> <td> -987.190</td> <td> -684.488</td>\n",
       "</tr>\n",
       "<tr>\n",
       "  <th>yr_renovated</th>       <td>   20.6795</td> <td>    3.556</td> <td>    5.815</td> <td> 0.000</td> <td>   13.709</td> <td>   27.650</td>\n",
       "</tr>\n",
       "<tr>\n",
       "  <th>dist_Ballard</th>       <td> 4.843e+04</td> <td> 2076.831</td> <td>   23.319</td> <td> 0.000</td> <td> 4.44e+04</td> <td> 5.25e+04</td>\n",
       "</tr>\n",
       "<tr>\n",
       "  <th>dist_Belltown</th>      <td>-2.151e+05</td> <td> 2.69e+04</td> <td>   -7.986</td> <td> 0.000</td> <td>-2.68e+05</td> <td>-1.62e+05</td>\n",
       "</tr>\n",
       "<tr>\n",
       "  <th>dist_CapitolHill</th>   <td>-1.004e+05</td> <td> 1.64e+04</td> <td>   -6.123</td> <td> 0.000</td> <td>-1.33e+05</td> <td>-6.83e+04</td>\n",
       "</tr>\n",
       "<tr>\n",
       "  <th>dist_ChinaTown</th>     <td>  5.43e+04</td> <td> 2.24e+04</td> <td>    2.424</td> <td> 0.015</td> <td> 1.04e+04</td> <td> 9.82e+04</td>\n",
       "</tr>\n",
       "<tr>\n",
       "  <th>dist_PioneerSqaure</th> <td> 5.354e+04</td> <td>  8.9e+04</td> <td>    0.602</td> <td> 0.547</td> <td>-1.21e+05</td> <td> 2.28e+05</td>\n",
       "</tr>\n",
       "<tr>\n",
       "  <th>dist_seattle</th>       <td> 1.414e+05</td> <td> 9.69e+04</td> <td>    1.460</td> <td> 0.144</td> <td>-4.85e+04</td> <td> 3.31e+05</td>\n",
       "</tr>\n",
       "<tr>\n",
       "  <th>Auburn</th>             <td> 4.735e+04</td> <td> 9804.442</td> <td>    4.830</td> <td> 0.000</td> <td> 2.81e+04</td> <td> 6.66e+04</td>\n",
       "</tr>\n",
       "<tr>\n",
       "  <th>Bellevue</th>           <td> 9.723e+04</td> <td> 9909.792</td> <td>    9.812</td> <td> 0.000</td> <td> 7.78e+04</td> <td> 1.17e+05</td>\n",
       "</tr>\n",
       "<tr>\n",
       "  <th>Black_Diamond</th>      <td> 1.532e+05</td> <td> 2.12e+04</td> <td>    7.237</td> <td> 0.000</td> <td> 1.12e+05</td> <td> 1.95e+05</td>\n",
       "</tr>\n",
       "<tr>\n",
       "  <th>Bothell</th>            <td>-1.438e+05</td> <td> 1.53e+04</td> <td>   -9.410</td> <td> 0.000</td> <td>-1.74e+05</td> <td>-1.14e+05</td>\n",
       "</tr>\n",
       "<tr>\n",
       "  <th>Carnation</th>          <td> 7.649e+04</td> <td> 1.86e+04</td> <td>    4.120</td> <td> 0.000</td> <td> 4.01e+04</td> <td> 1.13e+05</td>\n",
       "</tr>\n",
       "<tr>\n",
       "  <th>Duvall</th>             <td>-2.135e+04</td> <td> 1.57e+04</td> <td>   -1.357</td> <td> 0.175</td> <td>-5.22e+04</td> <td> 9490.192</td>\n",
       "</tr>\n",
       "<tr>\n",
       "  <th>Enumclaw</th>           <td> 2.097e+05</td> <td> 1.69e+04</td> <td>   12.373</td> <td> 0.000</td> <td> 1.76e+05</td> <td> 2.43e+05</td>\n",
       "</tr>\n",
       "<tr>\n",
       "  <th>Fall_City</th>          <td> 1.075e+05</td> <td>  2.2e+04</td> <td>    4.896</td> <td> 0.000</td> <td> 6.45e+04</td> <td> 1.51e+05</td>\n",
       "</tr>\n",
       "<tr>\n",
       "  <th>Federal_Way</th>        <td> 1.015e+04</td> <td> 1.02e+04</td> <td>    0.997</td> <td> 0.319</td> <td>-9800.514</td> <td> 3.01e+04</td>\n",
       "</tr>\n",
       "<tr>\n",
       "  <th>Issaquah</th>           <td> 5.746e+04</td> <td> 9767.848</td> <td>    5.882</td> <td> 0.000</td> <td> 3.83e+04</td> <td> 7.66e+04</td>\n",
       "</tr>\n",
       "<tr>\n",
       "  <th>Kenmore</th>            <td>-1.591e+05</td> <td>  1.4e+04</td> <td>  -11.368</td> <td> 0.000</td> <td>-1.87e+05</td> <td>-1.32e+05</td>\n",
       "</tr>\n",
       "<tr>\n",
       "  <th>Kent</th>               <td>-3831.9248</td> <td> 8828.695</td> <td>   -0.434</td> <td> 0.664</td> <td>-2.11e+04</td> <td> 1.35e+04</td>\n",
       "</tr>\n",
       "<tr>\n",
       "  <th>Kirkland</th>           <td>-6.323e+04</td> <td> 1.06e+04</td> <td>   -5.976</td> <td> 0.000</td> <td> -8.4e+04</td> <td>-4.25e+04</td>\n",
       "</tr>\n",
       "<tr>\n",
       "  <th>Maple_Valley</th>       <td> 6.798e+04</td> <td> 1.09e+04</td> <td>    6.224</td> <td> 0.000</td> <td> 4.66e+04</td> <td> 8.94e+04</td>\n",
       "</tr>\n",
       "<tr>\n",
       "  <th>Medina</th>             <td> 9.027e+05</td> <td> 2.77e+04</td> <td>   32.540</td> <td> 0.000</td> <td> 8.48e+05</td> <td> 9.57e+05</td>\n",
       "</tr>\n",
       "<tr>\n",
       "  <th>Mercer_Island</th>      <td>  2.31e+05</td> <td> 1.47e+04</td> <td>   15.739</td> <td> 0.000</td> <td> 2.02e+05</td> <td>  2.6e+05</td>\n",
       "</tr>\n",
       "<tr>\n",
       "  <th>North_Bend</th>         <td> 2.079e+05</td> <td> 1.61e+04</td> <td>   12.914</td> <td> 0.000</td> <td> 1.76e+05</td> <td> 2.39e+05</td>\n",
       "</tr>\n",
       "<tr>\n",
       "  <th>Redmond</th>            <td>-2.754e+04</td> <td> 9728.404</td> <td>   -2.831</td> <td> 0.005</td> <td>-4.66e+04</td> <td>-8476.079</td>\n",
       "</tr>\n",
       "<tr>\n",
       "  <th>Renton</th>             <td>-6.798e+04</td> <td> 8895.247</td> <td>   -7.642</td> <td> 0.000</td> <td>-8.54e+04</td> <td>-5.05e+04</td>\n",
       "</tr>\n",
       "<tr>\n",
       "  <th>Sammamish</th>          <td>-1.529e+04</td> <td> 9796.065</td> <td>   -1.561</td> <td> 0.119</td> <td>-3.45e+04</td> <td> 3912.834</td>\n",
       "</tr>\n",
       "<tr>\n",
       "  <th>Seattle</th>            <td>-7.996e+04</td> <td> 8976.546</td> <td>   -8.907</td> <td> 0.000</td> <td>-9.76e+04</td> <td>-6.24e+04</td>\n",
       "</tr>\n",
       "<tr>\n",
       "  <th>Snoqualmie</th>         <td> 8.816e+04</td> <td> 1.32e+04</td> <td>    6.659</td> <td> 0.000</td> <td> 6.22e+04</td> <td> 1.14e+05</td>\n",
       "</tr>\n",
       "<tr>\n",
       "  <th>Vashon</th>             <td>-9.513e+04</td> <td> 1.92e+04</td> <td>   -4.954</td> <td> 0.000</td> <td>-1.33e+05</td> <td>-5.75e+04</td>\n",
       "</tr>\n",
       "<tr>\n",
       "  <th>Woodinville</th>        <td>-8.516e+04</td> <td> 1.12e+04</td> <td>   -7.585</td> <td> 0.000</td> <td>-1.07e+05</td> <td>-6.32e+04</td>\n",
       "</tr>\n",
       "</table>\n",
       "<table class=\"simpletable\">\n",
       "<tr>\n",
       "  <th>Omnibus:</th>       <td>16559.401</td> <th>  Durbin-Watson:     </th>  <td>   2.000</td>  \n",
       "</tr>\n",
       "<tr>\n",
       "  <th>Prob(Omnibus):</th>  <td> 0.000</td>   <th>  Jarque-Bera (JB):  </th> <td>2726776.934</td>\n",
       "</tr>\n",
       "<tr>\n",
       "  <th>Skew:</th>           <td> 4.190</td>   <th>  Prob(JB):          </th>  <td>    0.00</td>  \n",
       "</tr>\n",
       "<tr>\n",
       "  <th>Kurtosis:</th>       <td>63.949</td>   <th>  Cond. No.          </th>  <td>1.09e+16</td>  \n",
       "</tr>\n",
       "</table><br/><br/>Warnings:<br/>[1] Standard Errors assume that the covariance matrix of the errors is correctly specified.<br/>[2] The smallest eigenvalue is 2.95e-19. This might indicate that there are<br/>strong multicollinearity problems or that the design matrix is singular."
      ],
      "text/plain": [
       "<class 'statsmodels.iolib.summary.Summary'>\n",
       "\"\"\"\n",
       "                            OLS Regression Results                            \n",
       "==============================================================================\n",
       "Dep. Variable:                  price   R-squared:                       0.783\n",
       "Model:                            OLS   Adj. R-squared:                  0.782\n",
       "Method:                 Least Squares   F-statistic:                     1515.\n",
       "Date:                Mon, 07 Dec 2020   Prob (F-statistic):               0.00\n",
       "Time:                        06:12:13   Log-Likelihood:            -2.3317e+05\n",
       "No. Observations:               17290   AIC:                         4.664e+05\n",
       "Df Residuals:                   17248   BIC:                         4.668e+05\n",
       "Df Model:                          41                                         \n",
       "Covariance Type:            nonrobust                                         \n",
       "======================================================================================\n",
       "                         coef    std err          t      P>|t|      [0.025      0.975]\n",
       "--------------------------------------------------------------------------------------\n",
       "Intercept           1.494e+06   1.43e+05     10.449      0.000    1.21e+06    1.77e+06\n",
       "bedrooms           -3.494e+04   1915.726    -18.241      0.000   -3.87e+04   -3.12e+04\n",
       "bathrooms           2.479e+04   3177.647      7.802      0.000    1.86e+04     3.1e+04\n",
       "sqft_living          122.9010      2.089     58.833      0.000     118.806     126.996\n",
       "sqft_lot               0.1790      0.034      5.210      0.000       0.112       0.246\n",
       "floors             -4.503e+04   3738.840    -12.044      0.000   -5.24e+04   -3.77e+04\n",
       "waterfront           6.49e+05   1.66e+04     39.116      0.000    6.16e+05    6.82e+05\n",
       "view                5.307e+04   2051.424     25.871      0.000    4.91e+04    5.71e+04\n",
       "condition           2.583e+04   2298.749     11.237      0.000    2.13e+04    3.03e+04\n",
       "grade               6.012e+04   2108.612     28.510      0.000     5.6e+04    6.42e+04\n",
       "sqft_above           104.1893      2.180     47.791      0.000      99.916     108.463\n",
       "sqft_basement         18.7116      2.610      7.169      0.000      13.596      23.828\n",
       "yr_built            -835.8390     77.216    -10.825      0.000    -987.190    -684.488\n",
       "yr_renovated          20.6795      3.556      5.815      0.000      13.709      27.650\n",
       "dist_Ballard        4.843e+04   2076.831     23.319      0.000    4.44e+04    5.25e+04\n",
       "dist_Belltown      -2.151e+05   2.69e+04     -7.986      0.000   -2.68e+05   -1.62e+05\n",
       "dist_CapitolHill   -1.004e+05   1.64e+04     -6.123      0.000   -1.33e+05   -6.83e+04\n",
       "dist_ChinaTown       5.43e+04   2.24e+04      2.424      0.015    1.04e+04    9.82e+04\n",
       "dist_PioneerSqaure  5.354e+04    8.9e+04      0.602      0.547   -1.21e+05    2.28e+05\n",
       "dist_seattle        1.414e+05   9.69e+04      1.460      0.144   -4.85e+04    3.31e+05\n",
       "Auburn              4.735e+04   9804.442      4.830      0.000    2.81e+04    6.66e+04\n",
       "Bellevue            9.723e+04   9909.792      9.812      0.000    7.78e+04    1.17e+05\n",
       "Black_Diamond       1.532e+05   2.12e+04      7.237      0.000    1.12e+05    1.95e+05\n",
       "Bothell            -1.438e+05   1.53e+04     -9.410      0.000   -1.74e+05   -1.14e+05\n",
       "Carnation           7.649e+04   1.86e+04      4.120      0.000    4.01e+04    1.13e+05\n",
       "Duvall             -2.135e+04   1.57e+04     -1.357      0.175   -5.22e+04    9490.192\n",
       "Enumclaw            2.097e+05   1.69e+04     12.373      0.000    1.76e+05    2.43e+05\n",
       "Fall_City           1.075e+05    2.2e+04      4.896      0.000    6.45e+04    1.51e+05\n",
       "Federal_Way         1.015e+04   1.02e+04      0.997      0.319   -9800.514    3.01e+04\n",
       "Issaquah            5.746e+04   9767.848      5.882      0.000    3.83e+04    7.66e+04\n",
       "Kenmore            -1.591e+05    1.4e+04    -11.368      0.000   -1.87e+05   -1.32e+05\n",
       "Kent               -3831.9248   8828.695     -0.434      0.664   -2.11e+04    1.35e+04\n",
       "Kirkland           -6.323e+04   1.06e+04     -5.976      0.000    -8.4e+04   -4.25e+04\n",
       "Maple_Valley        6.798e+04   1.09e+04      6.224      0.000    4.66e+04    8.94e+04\n",
       "Medina              9.027e+05   2.77e+04     32.540      0.000    8.48e+05    9.57e+05\n",
       "Mercer_Island        2.31e+05   1.47e+04     15.739      0.000    2.02e+05     2.6e+05\n",
       "North_Bend          2.079e+05   1.61e+04     12.914      0.000    1.76e+05    2.39e+05\n",
       "Redmond            -2.754e+04   9728.404     -2.831      0.005   -4.66e+04   -8476.079\n",
       "Renton             -6.798e+04   8895.247     -7.642      0.000   -8.54e+04   -5.05e+04\n",
       "Sammamish          -1.529e+04   9796.065     -1.561      0.119   -3.45e+04    3912.834\n",
       "Seattle            -7.996e+04   8976.546     -8.907      0.000   -9.76e+04   -6.24e+04\n",
       "Snoqualmie          8.816e+04   1.32e+04      6.659      0.000    6.22e+04    1.14e+05\n",
       "Vashon             -9.513e+04   1.92e+04     -4.954      0.000   -1.33e+05   -5.75e+04\n",
       "Woodinville        -8.516e+04   1.12e+04     -7.585      0.000   -1.07e+05   -6.32e+04\n",
       "==============================================================================\n",
       "Omnibus:                    16559.401   Durbin-Watson:                   2.000\n",
       "Prob(Omnibus):                  0.000   Jarque-Bera (JB):          2726776.934\n",
       "Skew:                           4.190   Prob(JB):                         0.00\n",
       "Kurtosis:                      63.949   Cond. No.                     1.09e+16\n",
       "==============================================================================\n",
       "\n",
       "Warnings:\n",
       "[1] Standard Errors assume that the covariance matrix of the errors is correctly specified.\n",
       "[2] The smallest eigenvalue is 2.95e-19. This might indicate that there are\n",
       "strong multicollinearity problems or that the design matrix is singular.\n",
       "\"\"\""
      ]
     },
     "execution_count": 310,
     "metadata": {},
     "output_type": "execute_result"
    }
   ],
   "source": [
    "import statsmodels.api as sm\n",
    "from statsmodels.formula.api import ols\n",
    "\n",
    "formula = 'price~bedrooms+bathrooms+sqft_living+sqft_lot+floors+waterfront+view+condition+grade+sqft_above+sqft_basement+yr_built+yr_renovated+dist_Ballard+dist_Belltown+dist_CapitolHill+dist_ChinaTown+dist_PioneerSqaure+dist_seattle+Auburn+Bellevue+Black_Diamond+Bothell+Carnation+Duvall+Enumclaw+Fall_City+Federal_Way+Issaquah+Kenmore+Kent+Kirkland+Maple_Valley+Medina+Mercer_Island+North_Bend+Redmond+Renton+Sammamish+Seattle+Snoqualmie+Vashon+Woodinville'\n",
    "model = ols(formula, data=df).fit()\n",
    "model.summary()"
   ]
  },
  {
   "cell_type": "markdown",
   "metadata": {},
   "source": [
    "**Train Test Split With Polynomial Data**\n",
    "\n",
    "Here I am seeing how well my polynomial data fits in terms of trying to predict home prices. "
   ]
  },
  {
   "cell_type": "code",
   "execution_count": 346,
   "metadata": {},
   "outputs": [],
   "source": [
    "X_train, X_test, y_train, y_test = train_test_split(df_poly, target, random_state=34,test_size=0.2)"
   ]
  },
  {
   "cell_type": "markdown",
   "metadata": {},
   "source": [
    "**Training Set**"
   ]
  },
  {
   "cell_type": "code",
   "execution_count": 347,
   "metadata": {},
   "outputs": [],
   "source": [
    "lr = LinearRegression()\n",
    "\n",
    "lr = lr.fit(X_train, y_train)"
   ]
  },
  {
   "cell_type": "code",
   "execution_count": 348,
   "metadata": {},
   "outputs": [],
   "source": [
    "trn_predict = lr.predict(X_train)\n",
    "\n",
    "train_rmse = np.sqrt(metrics.mean_squared_error(y_train,trn_predict))"
   ]
  },
  {
   "cell_type": "markdown",
   "metadata": {},
   "source": [
    "**Testing Set**"
   ]
  },
  {
   "cell_type": "code",
   "execution_count": 349,
   "metadata": {},
   "outputs": [],
   "source": [
    "tst_predict = lr.predict(X_test)"
   ]
  },
  {
   "cell_type": "code",
   "execution_count": 350,
   "metadata": {},
   "outputs": [],
   "source": [
    "test_rmse = np.sqrt(metrics.mean_squared_error(y_test,tst_predict))"
   ]
  },
  {
   "cell_type": "code",
   "execution_count": 351,
   "metadata": {},
   "outputs": [
    {
     "name": "stdout",
     "output_type": "stream",
     "text": [
      "Training RMSE:  2.8684384348246537e-06 vs. Testing RMSE:  3.701122733285186e-06\n"
     ]
    }
   ],
   "source": [
    "print('Training RMSE: ', train_rmse, \"vs. Testing RMSE: \", test_rmse)"
   ]
  },
  {
   "cell_type": "markdown",
   "metadata": {},
   "source": [
    "**Select KBest** "
   ]
  },
  {
   "cell_type": "code",
   "execution_count": 352,
   "metadata": {},
   "outputs": [
    {
     "data": {
      "text/plain": [
       "SelectKBest(k=20, score_func=<function f_regression at 0x7fb9e1b1eaf0>)"
      ]
     },
     "execution_count": 352,
     "metadata": {},
     "output_type": "execute_result"
    }
   ],
   "source": [
    "selector = SelectKBest(f_regression, k=20)\n",
    "\n",
    "selector.fit(X_train, y_train)"
   ]
  },
  {
   "cell_type": "code",
   "execution_count": 353,
   "metadata": {},
   "outputs": [],
   "source": [
    "selected_columns = X_train.columns[selector.get_support()]\n",
    "removed_columns = X_train.columns[~selector.get_support()]"
   ]
  },
  {
   "cell_type": "code",
   "execution_count": 354,
   "metadata": {},
   "outputs": [
    {
     "data": {
      "text/plain": [
       "Index(['sqft_living', 'grade', 'bathrooms sqft_living', 'bathrooms sqft_above',\n",
       "       'sqft_living^2', 'sqft_living condition', 'sqft_living grade',\n",
       "       'sqft_living sqft_above', 'sqft_living yr_built', 'sqft_living zipcode',\n",
       "       'sqft_living lat', 'sqft_living long', 'sqft_living sqft_living15',\n",
       "       'grade^2', 'grade sqft_above', 'grade zipcode', 'grade lat',\n",
       "       'grade long', 'grade sqft_living15', 'price'],\n",
       "      dtype='object')"
      ]
     },
     "execution_count": 354,
     "metadata": {},
     "output_type": "execute_result"
    }
   ],
   "source": [
    "selected_columns"
   ]
  },
  {
   "cell_type": "code",
   "execution_count": 355,
   "metadata": {},
   "outputs": [
    {
     "name": "stdout",
     "output_type": "stream",
     "text": [
      "Training Root Mean Squared Error: 6.663375084790422e-10\n",
      "Testing Root Mean Squared Error: 6.321805235859271e-10\n"
     ]
    }
   ],
   "source": [
    "#instantiate a linear regression object\n",
    "lm_kbest = LinearRegression()\n",
    "\n",
    "#fit the linear regression to the data\n",
    "lm_kbest.fit(X_train[selected_columns], y_train)\n",
    "\n",
    "y_train_kbest = lm_kbest.predict(X_train[selected_columns])\n",
    "\n",
    "\n",
    "trainK_rmse = np.sqrt(metrics.mean_squared_error(y_train, y_train_kbest))\n",
    "\n",
    "\n",
    "print('Training Root Mean Squared Error:' , trainK_rmse)\n",
    "\n",
    "y_kbest = lm_kbest.predict(X_test[selected_columns])\n",
    "\n",
    "testK_rmse = np.sqrt(metrics.mean_squared_error(y_test, y_kbest))\n",
    "\n",
    "print('Testing Root Mean Squared Error:' , testK_rmse)"
   ]
  },
  {
   "cell_type": "markdown",
   "metadata": {},
   "source": [
    "The results indicate that there is a lot of room for error in my predictions. Since these RMSE results are elevated I decided to try other feature selection methods to improve the results of my model."
   ]
  },
  {
   "cell_type": "markdown",
   "metadata": {},
   "source": [
    "**Recursive Feature Elimination**"
   ]
  },
  {
   "cell_type": "code",
   "execution_count": 340,
   "metadata": {},
   "outputs": [],
   "source": [
    "ols = LinearRegression()"
   ]
  },
  {
   "cell_type": "code",
   "execution_count": 341,
   "metadata": {},
   "outputs": [
    {
     "name": "stdout",
     "output_type": "stream",
     "text": [
      "Fitting estimator with 253 features.\n",
      "Fitting estimator with 252 features.\n",
      "Fitting estimator with 251 features.\n",
      "Fitting estimator with 250 features.\n",
      "Fitting estimator with 249 features.\n",
      "Fitting estimator with 248 features.\n",
      "Fitting estimator with 247 features.\n",
      "Fitting estimator with 246 features.\n",
      "Fitting estimator with 245 features.\n",
      "Fitting estimator with 244 features.\n",
      "Fitting estimator with 243 features.\n",
      "Fitting estimator with 242 features.\n",
      "Fitting estimator with 241 features.\n",
      "Fitting estimator with 240 features.\n",
      "Fitting estimator with 239 features.\n",
      "Fitting estimator with 238 features.\n",
      "Fitting estimator with 237 features.\n",
      "Fitting estimator with 236 features.\n",
      "Fitting estimator with 235 features.\n",
      "Fitting estimator with 234 features.\n",
      "Fitting estimator with 233 features.\n",
      "Fitting estimator with 232 features.\n",
      "Fitting estimator with 231 features.\n",
      "Fitting estimator with 230 features.\n",
      "Fitting estimator with 229 features.\n",
      "Fitting estimator with 228 features.\n",
      "Fitting estimator with 227 features.\n",
      "Fitting estimator with 226 features.\n",
      "Fitting estimator with 225 features.\n",
      "Fitting estimator with 224 features.\n",
      "Fitting estimator with 223 features.\n",
      "Fitting estimator with 222 features.\n",
      "Fitting estimator with 221 features.\n",
      "Fitting estimator with 220 features.\n",
      "Fitting estimator with 219 features.\n",
      "Fitting estimator with 218 features.\n",
      "Fitting estimator with 217 features.\n",
      "Fitting estimator with 216 features.\n",
      "Fitting estimator with 215 features.\n",
      "Fitting estimator with 214 features.\n",
      "Fitting estimator with 213 features.\n",
      "Fitting estimator with 212 features.\n",
      "Fitting estimator with 211 features.\n",
      "Fitting estimator with 210 features.\n",
      "Fitting estimator with 209 features.\n",
      "Fitting estimator with 208 features.\n",
      "Fitting estimator with 207 features.\n",
      "Fitting estimator with 206 features.\n",
      "Fitting estimator with 205 features.\n",
      "Fitting estimator with 204 features.\n",
      "Fitting estimator with 203 features.\n",
      "Fitting estimator with 202 features.\n",
      "Fitting estimator with 201 features.\n",
      "Fitting estimator with 200 features.\n",
      "Fitting estimator with 199 features.\n",
      "Fitting estimator with 198 features.\n",
      "Fitting estimator with 197 features.\n",
      "Fitting estimator with 196 features.\n",
      "Fitting estimator with 195 features.\n",
      "Fitting estimator with 194 features.\n",
      "Fitting estimator with 193 features.\n",
      "Fitting estimator with 192 features.\n",
      "Fitting estimator with 191 features.\n",
      "Fitting estimator with 190 features.\n",
      "Fitting estimator with 189 features.\n",
      "Fitting estimator with 188 features.\n",
      "Fitting estimator with 187 features.\n",
      "Fitting estimator with 186 features.\n",
      "Fitting estimator with 185 features.\n",
      "Fitting estimator with 184 features.\n",
      "Fitting estimator with 183 features.\n",
      "Fitting estimator with 182 features.\n",
      "Fitting estimator with 181 features.\n",
      "Fitting estimator with 180 features.\n",
      "Fitting estimator with 179 features.\n",
      "Fitting estimator with 178 features.\n",
      "Fitting estimator with 177 features.\n",
      "Fitting estimator with 176 features.\n",
      "Fitting estimator with 175 features.\n",
      "Fitting estimator with 174 features.\n",
      "Fitting estimator with 173 features.\n",
      "Fitting estimator with 172 features.\n",
      "Fitting estimator with 171 features.\n",
      "Fitting estimator with 170 features.\n",
      "Fitting estimator with 169 features.\n",
      "Fitting estimator with 168 features.\n",
      "Fitting estimator with 167 features.\n",
      "Fitting estimator with 166 features.\n",
      "Fitting estimator with 165 features.\n",
      "Fitting estimator with 164 features.\n",
      "Fitting estimator with 163 features.\n",
      "Fitting estimator with 162 features.\n",
      "Fitting estimator with 161 features.\n",
      "Fitting estimator with 160 features.\n",
      "Fitting estimator with 159 features.\n",
      "Fitting estimator with 158 features.\n",
      "Fitting estimator with 157 features.\n",
      "Fitting estimator with 156 features.\n",
      "Fitting estimator with 155 features.\n",
      "Fitting estimator with 154 features.\n",
      "Fitting estimator with 153 features.\n",
      "Fitting estimator with 152 features.\n",
      "Fitting estimator with 151 features.\n",
      "Fitting estimator with 150 features.\n",
      "Fitting estimator with 149 features.\n",
      "Fitting estimator with 148 features.\n",
      "Fitting estimator with 147 features.\n",
      "Fitting estimator with 146 features.\n",
      "Fitting estimator with 145 features.\n",
      "Fitting estimator with 144 features.\n",
      "Fitting estimator with 143 features.\n",
      "Fitting estimator with 142 features.\n",
      "Fitting estimator with 141 features.\n",
      "Fitting estimator with 140 features.\n",
      "Fitting estimator with 139 features.\n",
      "Fitting estimator with 138 features.\n",
      "Fitting estimator with 137 features.\n",
      "Fitting estimator with 136 features.\n",
      "Fitting estimator with 135 features.\n",
      "Fitting estimator with 134 features.\n",
      "Fitting estimator with 133 features.\n",
      "Fitting estimator with 132 features.\n",
      "Fitting estimator with 131 features.\n",
      "Fitting estimator with 130 features.\n",
      "Fitting estimator with 129 features.\n",
      "Fitting estimator with 128 features.\n",
      "Fitting estimator with 127 features.\n",
      "Fitting estimator with 126 features.\n",
      "Fitting estimator with 125 features.\n",
      "Fitting estimator with 124 features.\n",
      "Fitting estimator with 123 features.\n",
      "Fitting estimator with 122 features.\n",
      "Fitting estimator with 121 features.\n",
      "Fitting estimator with 120 features.\n",
      "Fitting estimator with 119 features.\n",
      "Fitting estimator with 118 features.\n",
      "Fitting estimator with 117 features.\n",
      "Fitting estimator with 116 features.\n",
      "Fitting estimator with 115 features.\n",
      "Fitting estimator with 114 features.\n",
      "Fitting estimator with 113 features.\n",
      "Fitting estimator with 112 features.\n",
      "Fitting estimator with 111 features.\n",
      "Fitting estimator with 110 features.\n",
      "Fitting estimator with 109 features.\n",
      "Fitting estimator with 108 features.\n",
      "Fitting estimator with 107 features.\n",
      "Fitting estimator with 106 features.\n",
      "Fitting estimator with 105 features.\n",
      "Fitting estimator with 104 features.\n",
      "Fitting estimator with 103 features.\n",
      "Fitting estimator with 102 features.\n",
      "Fitting estimator with 101 features.\n",
      "Fitting estimator with 100 features.\n",
      "Fitting estimator with 99 features.\n",
      "Fitting estimator with 98 features.\n",
      "Fitting estimator with 97 features.\n",
      "Fitting estimator with 96 features.\n",
      "Fitting estimator with 95 features.\n",
      "Fitting estimator with 94 features.\n",
      "Fitting estimator with 93 features.\n",
      "Fitting estimator with 92 features.\n",
      "Fitting estimator with 91 features.\n",
      "Fitting estimator with 90 features.\n",
      "Fitting estimator with 89 features.\n",
      "Fitting estimator with 88 features.\n",
      "Fitting estimator with 87 features.\n",
      "Fitting estimator with 86 features.\n",
      "Fitting estimator with 85 features.\n",
      "Fitting estimator with 84 features.\n",
      "Fitting estimator with 83 features.\n",
      "Fitting estimator with 82 features.\n",
      "Fitting estimator with 81 features.\n",
      "Fitting estimator with 80 features.\n",
      "Fitting estimator with 79 features.\n",
      "Fitting estimator with 78 features.\n",
      "Fitting estimator with 77 features.\n",
      "Fitting estimator with 76 features.\n",
      "Fitting estimator with 75 features.\n",
      "Fitting estimator with 74 features.\n",
      "Fitting estimator with 73 features.\n",
      "Fitting estimator with 72 features.\n",
      "Fitting estimator with 71 features.\n",
      "Fitting estimator with 70 features.\n",
      "Fitting estimator with 69 features.\n",
      "Fitting estimator with 68 features.\n",
      "Fitting estimator with 67 features.\n",
      "Fitting estimator with 66 features.\n",
      "Fitting estimator with 65 features.\n",
      "Fitting estimator with 64 features.\n",
      "Fitting estimator with 63 features.\n",
      "Fitting estimator with 62 features.\n",
      "Fitting estimator with 61 features.\n",
      "Fitting estimator with 60 features.\n",
      "Fitting estimator with 59 features.\n",
      "Fitting estimator with 58 features.\n",
      "Fitting estimator with 57 features.\n",
      "Fitting estimator with 56 features.\n",
      "Fitting estimator with 55 features.\n",
      "Fitting estimator with 54 features.\n",
      "Fitting estimator with 53 features.\n",
      "Fitting estimator with 52 features.\n",
      "Fitting estimator with 51 features.\n",
      "Fitting estimator with 50 features.\n",
      "Fitting estimator with 49 features.\n",
      "Fitting estimator with 48 features.\n",
      "Fitting estimator with 47 features.\n",
      "Fitting estimator with 46 features.\n",
      "Fitting estimator with 45 features.\n",
      "Fitting estimator with 44 features.\n",
      "Fitting estimator with 43 features.\n",
      "Fitting estimator with 42 features.\n",
      "Fitting estimator with 41 features.\n",
      "Fitting estimator with 40 features.\n",
      "Fitting estimator with 39 features.\n",
      "Fitting estimator with 38 features.\n",
      "Fitting estimator with 37 features.\n",
      "Fitting estimator with 36 features.\n",
      "Fitting estimator with 35 features.\n",
      "Fitting estimator with 34 features.\n",
      "Fitting estimator with 33 features.\n",
      "Fitting estimator with 32 features.\n",
      "Fitting estimator with 31 features.\n",
      "Fitting estimator with 30 features.\n",
      "Fitting estimator with 29 features.\n",
      "Fitting estimator with 28 features.\n",
      "Fitting estimator with 27 features.\n",
      "Fitting estimator with 26 features.\n",
      "Fitting estimator with 25 features.\n",
      "Fitting estimator with 24 features.\n",
      "Fitting estimator with 23 features.\n",
      "Fitting estimator with 22 features.\n",
      "Fitting estimator with 21 features.\n",
      "Fitting estimator with 20 features.\n",
      "Fitting estimator with 19 features.\n"
     ]
    },
    {
     "name": "stdout",
     "output_type": "stream",
     "text": [
      "Fitting estimator with 18 features.\n",
      "Fitting estimator with 17 features.\n",
      "Fitting estimator with 16 features.\n",
      "Fitting estimator with 15 features.\n",
      "Fitting estimator with 14 features.\n",
      "Fitting estimator with 13 features.\n",
      "Fitting estimator with 12 features.\n",
      "Fitting estimator with 11 features.\n",
      "Fitting estimator with 10 features.\n",
      "Fitting estimator with 9 features.\n"
     ]
    },
    {
     "data": {
      "text/plain": [
       "RFECV(cv=5, estimator=LinearRegression(), n_jobs=-1,\n",
       "      scoring='neg_mean_squared_error', verbose=1)"
      ]
     },
     "execution_count": 341,
     "metadata": {},
     "output_type": "execute_result"
    }
   ],
   "source": [
    "# Create recursive feature eliminator that scores features by mean squared errors\n",
    "selector = RFECV(estimator=ols, step=1, cv=5, scoring='neg_mean_squared_error', n_jobs=-1,verbose=1)\n",
    "\n",
    "# Fit recursive feature eliminator \n",
    "selector.fit(X_train, y_train)"
   ]
  },
  {
   "cell_type": "code",
   "execution_count": 342,
   "metadata": {},
   "outputs": [],
   "source": [
    "selected_rfe = X_train.columns[selector.support_]\n",
    "removed_rfe = X_train.columns[~selector.support_]"
   ]
  },
  {
   "cell_type": "code",
   "execution_count": 343,
   "metadata": {},
   "outputs": [
    {
     "data": {
      "text/plain": [
       "Index(['bedrooms waterfront', 'bathrooms waterfront',\n",
       "       'bathrooms renovated_home', 'waterfront view', 'waterfront lat',\n",
       "       'waterfront new_home', 'waterfront renovated_home', 'price'],\n",
       "      dtype='object')"
      ]
     },
     "execution_count": 343,
     "metadata": {},
     "output_type": "execute_result"
    }
   ],
   "source": [
    "selected_rfe"
   ]
  },
  {
   "cell_type": "code",
   "execution_count": 344,
   "metadata": {},
   "outputs": [
    {
     "name": "stdout",
     "output_type": "stream",
     "text": [
      "Training Root Mean Squared Error: 1.966082878457677e-10\n",
      "Testing Root Mean Squared Error: 1.9896013266126773e-10\n"
     ]
    }
   ],
   "source": [
    "#instantiate a linear regression object\n",
    "lm_rfe = LinearRegression()\n",
    "\n",
    "#fit the linear regression to the data\n",
    "lm_rfe = lm_rfe.fit(X_train[selected_rfe], y_train)\n",
    "\n",
    "y_rfe = lm_rfe.predict(X_train[selected_rfe])\n",
    "\n",
    "\n",
    "trainRFE_rmse = np.sqrt(metrics.mean_squared_error(y_train, y_rfe))\n",
    "\n",
    "\n",
    "print('Training Root Mean Squared Error:' , trainRFE_rmse)\n",
    "\n",
    "y_pred_rfe = lm_rfe.predict(X_test[selected_rfe])\n",
    "\n",
    "testRFE_rmse = np.sqrt(metrics.mean_squared_error(y_test, y_pred_rfe))\n",
    "\n",
    "print('Testing Root Mean Squared Error:' , testRFE_rmse)"
   ]
  },
  {
   "cell_type": "code",
   "execution_count": 345,
   "metadata": {},
   "outputs": [
    {
     "data": {
      "text/plain": [
       "array([-1.63799522e-10,  1.54433647e-10, -5.20193471e-11,  7.24856140e-11,\n",
       "        1.32293449e-11, -1.40134937e-09, -9.42564302e-11,  1.00000000e+00])"
      ]
     },
     "execution_count": 345,
     "metadata": {},
     "output_type": "execute_result"
    }
   ],
   "source": [
    "lm_rfe.coef_"
   ]
  },
  {
   "cell_type": "markdown",
   "metadata": {},
   "source": [
    "The results from Recursive Feature Elimination proved to be much stronger in this instance. The difference in error is minimal which indicates that the model doesn't overfit the training data. These results have been most successful so far."
   ]
  },
  {
   "cell_type": "markdown",
   "metadata": {},
   "source": [
    "**Testing all my Features without any polynomials**\n",
    "\n",
    "After looking at the summary from my baseline model I wanted to try and test how well these features worked on their own in making predictions. Since my baseline model sugessted that my variables explained close to 80% of the variance within the data, and since a lot of my features were statisically signifcant I figured I would test their prediction ability. "
   ]
  },
  {
   "cell_type": "code",
   "execution_count": 359,
   "metadata": {},
   "outputs": [
    {
     "data": {
      "text/plain": [
       "Index(['id', 'price', 'bedrooms', 'bathrooms', 'sqft_living', 'sqft_lot',\n",
       "       'floors', 'waterfront', 'view', 'condition', 'grade', 'sqft_above',\n",
       "       'sqft_basement', 'yr_built', 'yr_renovated', 'zipcode', 'lat', 'long',\n",
       "       'sqft_living15', 'sqft_lot15', 'years_old', 'new_home',\n",
       "       'renovated_home', 'dist_Ballard', 'dist_Belltown', 'dist_CapitolHill',\n",
       "       'dist_ChinaTown', 'dist_PioneerSqaure', 'dist_seattle', 'cities',\n",
       "       'Auburn', 'Bellevue', 'Black_Diamond', 'Bothell', 'Carnation', 'Duvall',\n",
       "       'Enumclaw', 'Fall_City', 'Federal_Way', 'Issaquah', 'Kenmore', 'Kent',\n",
       "       'Kirkland', 'Maple_Valley', 'Medina', 'Mercer_Island', 'North_Bend',\n",
       "       'Redmond', 'Renton', 'Sammamish', 'Seattle', 'Snoqualmie', 'Vashon',\n",
       "       'Woodinville'],\n",
       "      dtype='object')"
      ]
     },
     "execution_count": 359,
     "metadata": {},
     "output_type": "execute_result"
    }
   ],
   "source": [
    "df.columns"
   ]
  },
  {
   "cell_type": "code",
   "execution_count": 360,
   "metadata": {},
   "outputs": [],
   "source": [
    "features = ['bedrooms', 'bathrooms', 'sqft_living', 'sqft_lot', 'floors',\n",
    "       'waterfront', 'view', 'condition', 'grade', 'sqft_above',\n",
    "       'sqft_basement', 'yr_built', 'yr_renovated', 'zipcode', 'lat', 'long',\n",
    "       'sqft_living15', 'sqft_lot15', 'years_old', 'new_home',\n",
    "       'renovated_home', 'Auburn', 'Bellevue', 'Black_Diamond', 'Bothell',\n",
    "       'Carnation', 'Duvall', 'Enumclaw', 'Fall_City', 'Federal_Way',\n",
    "       'Issaquah', 'Kenmore', 'Kent', 'Kirkland', 'Maple_Valley', 'Medina',\n",
    "       'Mercer_Island', 'North_Bend', 'Redmond', 'Renton', 'Sammamish',\n",
    "       'Seattle', 'Snoqualmie', 'Vashon', 'Woodinville', 'dist_Ballard',\n",
    "       'dist_Belltown', 'dist_CapitolHill', 'dist_ChinaTown',\n",
    "       'dist_PioneerSqaure', 'dist_seattle']"
   ]
  },
  {
   "cell_type": "code",
   "execution_count": 361,
   "metadata": {},
   "outputs": [],
   "source": [
    "df_features = df[features]"
   ]
  },
  {
   "cell_type": "code",
   "execution_count": 362,
   "metadata": {},
   "outputs": [],
   "source": [
    "X_train, X_test, y_train, y_test = train_test_split(df_features, target, random_state=34,test_size=0.2)"
   ]
  },
  {
   "cell_type": "code",
   "execution_count": 363,
   "metadata": {},
   "outputs": [],
   "source": [
    "ols = LinearRegression()"
   ]
  },
  {
   "cell_type": "markdown",
   "metadata": {},
   "source": [
    "I ran these variables through RFE to see whether or not any features would get eliminated. "
   ]
  },
  {
   "cell_type": "code",
   "execution_count": 364,
   "metadata": {},
   "outputs": [
    {
     "name": "stdout",
     "output_type": "stream",
     "text": [
      "Fitting estimator with 51 features.\n"
     ]
    },
    {
     "data": {
      "text/plain": [
       "RFECV(cv=5, estimator=LinearRegression(), n_jobs=-1,\n",
       "      scoring='neg_mean_squared_error', verbose=1)"
      ]
     },
     "execution_count": 364,
     "metadata": {},
     "output_type": "execute_result"
    }
   ],
   "source": [
    "# Create recursive feature eliminator that scores features by mean squared errors\n",
    "selector = RFECV(estimator=ols, step=1, cv=5, scoring='neg_mean_squared_error', n_jobs=-1,verbose=1)\n",
    "\n",
    "# Fit recursive feature eliminator \n",
    "selector.fit(X_train, y_train)"
   ]
  },
  {
   "cell_type": "code",
   "execution_count": 365,
   "metadata": {},
   "outputs": [],
   "source": [
    "selected_rfe = X_train.columns[selector.support_]\n",
    "removed_rfe = X_train.columns[~selector.support_]"
   ]
  },
  {
   "cell_type": "code",
   "execution_count": 366,
   "metadata": {},
   "outputs": [],
   "source": [
    "sc_final = selected_rfe"
   ]
  },
  {
   "cell_type": "code",
   "execution_count": 367,
   "metadata": {},
   "outputs": [
    {
     "data": {
      "text/plain": [
       "Index(['bedrooms', 'bathrooms', 'sqft_living', 'sqft_lot', 'floors',\n",
       "       'waterfront', 'view', 'condition', 'grade', 'sqft_above',\n",
       "       'sqft_basement', 'yr_built', 'yr_renovated', 'zipcode', 'lat', 'long',\n",
       "       'sqft_living15', 'years_old', 'new_home', 'renovated_home', 'Auburn',\n",
       "       'Bellevue', 'Black_Diamond', 'Bothell', 'Carnation', 'Duvall',\n",
       "       'Enumclaw', 'Fall_City', 'Federal_Way', 'Issaquah', 'Kenmore', 'Kent',\n",
       "       'Kirkland', 'Maple_Valley', 'Medina', 'Mercer_Island', 'North_Bend',\n",
       "       'Redmond', 'Renton', 'Sammamish', 'Seattle', 'Snoqualmie', 'Vashon',\n",
       "       'Woodinville', 'dist_Ballard', 'dist_Belltown', 'dist_CapitolHill',\n",
       "       'dist_ChinaTown', 'dist_PioneerSqaure', 'dist_seattle'],\n",
       "      dtype='object')"
      ]
     },
     "execution_count": 367,
     "metadata": {},
     "output_type": "execute_result"
    }
   ],
   "source": [
    "sc_final"
   ]
  },
  {
   "cell_type": "code",
   "execution_count": 368,
   "metadata": {},
   "outputs": [
    {
     "name": "stdout",
     "output_type": "stream",
     "text": [
      "Training Root Mean Squared Error: 171747.6163097001\n",
      "Testing Root Mean Squared Error: 178539.50030755196\n"
     ]
    }
   ],
   "source": [
    "#instantiate a linear regression object\n",
    "lm_rfe = LinearRegression()\n",
    "\n",
    "#fit the linear regression to the data\n",
    "lm_rfe = lm_rfe.fit(X_train[selected_rfe], y_train)\n",
    "\n",
    "y_rfe = lm_rfe.predict(X_train[selected_rfe])\n",
    "\n",
    "\n",
    "trainRFE_rmse = np.sqrt(metrics.mean_squared_error(y_train, y_rfe))\n",
    "\n",
    "\n",
    "print('Training Root Mean Squared Error:' , trainRFE_rmse)\n",
    "\n",
    "y_pred_rfe = lm_rfe.predict(X_test[selected_rfe])\n",
    "\n",
    "testRFE_rmse = np.sqrt(metrics.mean_squared_error(y_test, y_pred_rfe))\n",
    "\n",
    "print('Testing Root Mean Squared Error:' , testRFE_rmse)"
   ]
  },
  {
   "cell_type": "markdown",
   "metadata": {},
   "source": [
    "Given the results, I decided to use this as my final model. The Training RMSE and Testing RMSE are close in difference, suggesting my model does not overfit my training data. Additionally, this is the lowest error I recieved from running my models. Because of these factors I chose this model to make my final predictions."
   ]
  },
  {
   "cell_type": "markdown",
   "metadata": {},
   "source": [
    "**Saving my Final Model**"
   ]
  },
  {
   "cell_type": "code",
   "execution_count": 369,
   "metadata": {},
   "outputs": [],
   "source": [
    "#instantiate a linear regression object\n",
    "lm_final = LinearRegression()\n",
    "\n",
    "#fit the linear regression to the data\n",
    "lm_final = lm_final.fit(df[sc_final],df['price'])"
   ]
  },
  {
   "cell_type": "code",
   "execution_count": 261,
   "metadata": {},
   "outputs": [],
   "source": [
    "import pickle\n",
    "\n",
    "\n",
    "pickle_out = open(\"model.pickle\",\"wb\")\n",
    "pickle.dump(lm_final, pickle_out)\n",
    "pickle_out.close()"
   ]
  },
  {
   "cell_type": "code",
   "execution_count": 259,
   "metadata": {},
   "outputs": [],
   "source": [
    "pickle_out = open(\"selected_columns.pickle\",\"wb\")\n",
    "pickle.dump(selected_columns, pickle_out)\n",
    "pickle_out.close()"
   ]
  }
 ],
 "metadata": {
  "kernelspec": {
   "display_name": "learn-env",
   "language": "python",
   "name": "learn-env"
  },
  "language_info": {
   "codemirror_mode": {
    "name": "ipython",
    "version": 3
   },
   "file_extension": ".py",
   "mimetype": "text/x-python",
   "name": "python",
   "nbconvert_exporter": "python",
   "pygments_lexer": "ipython3",
   "version": "3.8.3"
  },
  "toc": {
   "base_numbering": 1,
   "nav_menu": {},
   "number_sections": true,
   "sideBar": true,
   "skip_h1_title": false,
   "title_cell": "Table of Contents",
   "title_sidebar": "Contents",
   "toc_cell": false,
   "toc_position": {},
   "toc_section_display": true,
   "toc_window_display": false
  }
 },
 "nbformat": 4,
 "nbformat_minor": 4
}
